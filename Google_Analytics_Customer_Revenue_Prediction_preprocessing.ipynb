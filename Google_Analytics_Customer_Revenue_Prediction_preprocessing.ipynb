{
  "nbformat": 4,
  "nbformat_minor": 0,
  "metadata": {
    "colab": {
      "name": "Google Analytics Customer Revenue Prediction_preprocessing.ipynb",
      "provenance": [],
      "collapsed_sections": [],
      "machine_shape": "hm"
    },
    "kernelspec": {
      "name": "python3",
      "display_name": "Python 3"
    },
    "accelerator": "TPU"
  },
  "cells": [
    {
      "cell_type": "markdown",
      "metadata": {
        "id": "Apqa6stlx32Y",
        "colab_type": "text"
      },
      "source": [
        "Google Analytics Customer Revenue Prediction"
      ]
    },
    {
      "cell_type": "markdown",
      "metadata": {
        "id": "BvjMOQPexw9j",
        "colab_type": "text"
      },
      "source": [
        "•\tfullVisitorId- A unique identifier for each user of the Google Merchandise Store.\n",
        "•\tchannelGrouping - The channel via which the user came to the Store.\n",
        "•\tdate - The date on which the user visited the Store.\n",
        "•\tdevice - The specifications for the device used to access the Store.\n",
        "•\tgeoNetwork - This section contains information about the geography of the user.\n",
        "•\tsocialEngagementType - Engagement type, either \"Socially Engaged\" or \"Not Socially Engaged\".\n",
        "•\ttotals - This section contains aggregate values across the session.\n",
        "•\ttrafficSource - This section contains information about the Traffic Source from which the session originated.\n",
        "•\tvisitId - An identifier for this session. This is part of the value usually stored as the _utmb cookie. This is only unique to the user. For a completely unique ID, you should use a combination of fullVisitorId and visitId.\n",
        "•\tvisitNumber - The session number for this user. If this is the first session, then this is set to 1.\n",
        "•\tvisitStartTime - The timestamp (expressed as POSIX time).\n",
        "•\thits - This row and nested fields are populated for any and all types of hits. Provides a record of all page visits.\n",
        "•\tcustomDimensions - This section contains any user-level or session-level custom dimensions that are set for a session. This is a repeated field and has an entry for each dimension that is set.\n",
        "•\ttotals - This set of columns mostly includes high-level aggregate data.\n"
      ]
    },
    {
      "cell_type": "code",
      "metadata": {
        "id": "OBbgV6xj_wlp",
        "colab_type": "code",
        "outputId": "58aab2e6-8c53-4087-ffe7-87e557306c1b",
        "colab": {
          "base_uri": "https://localhost:8080/",
          "height": 258
        }
      },
      "source": [
        "!pip  install libmpfr-dev\n",
        "!pip install bigfloat"
      ],
      "execution_count": 0,
      "outputs": [
        {
          "output_type": "stream",
          "text": [
            "\u001b[31mERROR: Could not find a version that satisfies the requirement libmpfr-dev (from versions: none)\u001b[0m\n",
            "\u001b[31mERROR: No matching distribution found for libmpfr-dev\u001b[0m\n",
            "Collecting bigfloat\n",
            "  Using cached https://files.pythonhosted.org/packages/e0/6c/34784aecbd34d8eaad938106a8b0e5af57dc7282baf613cb8414ef949c20/bigfloat-0.4.0.tar.gz\n",
            "Requirement already satisfied: six in /usr/local/lib/python3.6/dist-packages (from bigfloat) (1.12.0)\n",
            "Building wheels for collected packages: bigfloat\n",
            "  Building wheel for bigfloat (setup.py) ... \u001b[?25lerror\n",
            "\u001b[31m  ERROR: Failed building wheel for bigfloat\u001b[0m\n",
            "\u001b[?25h  Running setup.py clean for bigfloat\n",
            "Failed to build bigfloat\n",
            "Installing collected packages: bigfloat\n",
            "    Running setup.py install for bigfloat ... \u001b[?25l\u001b[?25herror\n",
            "\u001b[31mERROR: Command errored out with exit status 1: /usr/bin/python3 -u -c 'import sys, setuptools, tokenize; sys.argv[0] = '\"'\"'/tmp/pip-install-lt2pm83r/bigfloat/setup.py'\"'\"'; __file__='\"'\"'/tmp/pip-install-lt2pm83r/bigfloat/setup.py'\"'\"';f=getattr(tokenize, '\"'\"'open'\"'\"', open)(__file__);code=f.read().replace('\"'\"'\\r\\n'\"'\"', '\"'\"'\\n'\"'\"');f.close();exec(compile(code, __file__, '\"'\"'exec'\"'\"'))' install --record /tmp/pip-record-hsn285wd/install-record.txt --single-version-externally-managed --compile Check the logs for full command output.\u001b[0m\n"
          ],
          "name": "stdout"
        }
      ]
    },
    {
      "cell_type": "code",
      "metadata": {
        "id": "xFItzr0irJEv",
        "colab_type": "code",
        "outputId": "ee7f4e7b-8959-4a32-e6f5-7ade157627eb",
        "colab": {
          "base_uri": "https://localhost:8080/",
          "height": 71
        }
      },
      "source": [
        "import random # random is to generate random values\n",
        "\n",
        "import pandas as pd # to manipulate data frames \n",
        "import numpy as np # to work with matrix\n",
        "from scipy.stats import kurtosis, skew # it's to explore some statistics of numerical values\n",
        "\n",
        "import matplotlib.pyplot as plt # to graphics plot\n",
        "import seaborn as sns # a good library to graphic plots\n",
        "#import squarify # to better understand proportion of categorys - it's a treemap layout algorithm\n",
        "\n",
        "# Importing librarys to use on interactive graphs\n",
        "from plotly.offline import init_notebook_mode, iplot, plot \n",
        "import plotly.graph_objs as go \n",
        "\n",
        "import json # to convert json in df\n",
        "from pandas.io.json import json_normalize\n",
        "from sklearn.model_selection import train_test_split\n",
        "import matplotlib.pyplot as plt\n",
        "from sklearn.metrics import mean_squared_error\n",
        "from sklearn import preprocessing\n",
        "from sklearn.linear_model import SGDRegressor\n",
        "from sklearn.preprocessing import LabelEncoder\n",
        "from sklearn.preprocessing import RobustScaler\n",
        "import sys\n",
        "import csv"
      ],
      "execution_count": 0,
      "outputs": [
        {
          "output_type": "stream",
          "text": [
            "/usr/local/lib/python3.6/dist-packages/statsmodels/tools/_testing.py:19: FutureWarning: pandas.util.testing is deprecated. Use the functions in the public API at pandas.testing instead.\n",
            "  import pandas.util.testing as tm\n"
          ],
          "name": "stderr"
        }
      ]
    },
    {
      "cell_type": "code",
      "metadata": {
        "id": "HlrHgA61lpLE",
        "colab_type": "code",
        "outputId": "8c3a2e3b-edb5-4867-f564-729dac69bc78",
        "colab": {
          "base_uri": "https://localhost:8080/",
          "height": 122
        }
      },
      "source": [
        "from google.colab import drive\n",
        "drive.mount('/content/drive')"
      ],
      "execution_count": 0,
      "outputs": [
        {
          "output_type": "stream",
          "text": [
            "Go to this URL in a browser: https://accounts.google.com/o/oauth2/auth?client_id=947318989803-6bn6qk8qdgf4n4g3pfee6491hc0brc4i.apps.googleusercontent.com&redirect_uri=urn%3aietf%3awg%3aoauth%3a2.0%3aoob&response_type=code&scope=email%20https%3a%2f%2fwww.googleapis.com%2fauth%2fdocs.test%20https%3a%2f%2fwww.googleapis.com%2fauth%2fdrive%20https%3a%2f%2fwww.googleapis.com%2fauth%2fdrive.photos.readonly%20https%3a%2f%2fwww.googleapis.com%2fauth%2fpeopleapi.readonly\n",
            "\n",
            "Enter your authorization code:\n",
            "··········\n",
            "Mounted at /content/drive\n"
          ],
          "name": "stdout"
        }
      ]
    },
    {
      "cell_type": "markdown",
      "metadata": {
        "id": "wQGeRtser7D7",
        "colab_type": "text"
      },
      "source": [
        "we see device,geoNetwork,totals,trafficSource in the form of JSON.\n",
        "so we need to convert all these into columns"
      ]
    },
    {
      "cell_type": "code",
      "metadata": {
        "id": "XvbVAHz6tjfr",
        "colab_type": "code",
        "colab": {}
      },
      "source": [
        "def convert_df_columns_train():\n",
        "    JSON_COLUMNS = ['device', 'geoNetwork', 'totals', 'trafficSource']\n",
        "    csv_path='/content/drive/My Drive/google-pred-data/test_v2.csv'\n",
        "    nrows=None\n",
        "    df = pd.read_csv(csv_path, \n",
        "                     converters={column: json.loads for column in JSON_COLUMNS}, \n",
        "                     dtype={'fullVisitorId': 'str'}, # Important!!\n",
        "                     nrows=nrows)\n",
        "    for column in JSON_COLUMNS:\n",
        "        column_as_df = json_normalize(df[column])\n",
        "        column_as_df.columns = [f\"{column}.{subcolumn}\" for subcolumn in column_as_df.columns]\n",
        "        df = df.drop(column, axis=1).merge(column_as_df, right_index=True, left_index=True)\n",
        "    return df"
      ],
      "execution_count": 0,
      "outputs": []
    },
    {
      "cell_type": "code",
      "metadata": {
        "id": "khAclsEDKfX8",
        "colab_type": "code",
        "colab": {}
      },
      "source": [
        "def convert_df_columns_train_test():\n",
        "    JSON_COLUMNS = ['device', 'geoNetwork', 'totals', 'trafficSource']\n",
        "    csv_path='/content/drive/My Drive/google-pred-data/test_v2.csv'\n",
        "    nrows=None\n",
        "    df = pd.read_csv(csv_path, \n",
        "                     converters={column: json.loads for column in JSON_COLUMNS}, \n",
        "                     dtype={'fullVisitorId': 'str'}, # Important!!\n",
        "                     nrows=nrows)\n",
        "    for column in JSON_COLUMNS:\n",
        "        column_as_df = json_normalize(df[column])\n",
        "        column_as_df.columns = [f\"{column}.{subcolumn}\" for subcolumn in column_as_df.columns]\n",
        "        df = df.drop(column, axis=1).merge(column_as_df, right_index=True, left_index=True)\n",
        "    return df"
      ],
      "execution_count": 0,
      "outputs": []
    },
    {
      "cell_type": "code",
      "metadata": {
        "id": "1_kM5uG8wXhh",
        "colab_type": "code",
        "colab": {}
      },
      "source": [
        "def get_na_count(df):\n",
        "    print(df.shape)\n",
        "    print(df.isna().sum())"
      ],
      "execution_count": 0,
      "outputs": []
    },
    {
      "cell_type": "code",
      "metadata": {
        "id": "TgJn3w9ctItH",
        "colab_type": "code",
        "colab": {}
      },
      "source": [
        "def get_not_available_data_columns(df):\n",
        "    print(\"device.browserVersion-not available in demo dataset\",df['device.browserVersion'].str.contains(r'not available in demo dataset').sum())\n",
        "    print(\"device.browserSize-not available in demo dataset\",df['device.browserSize'].str.contains(r'not available in demo dataset').sum())\n",
        "    print(\"device.operatingSystemVersion-not available in demo dataset\",df['device.operatingSystemVersion'].str.contains(r'not available in demo dataset').sum())\n",
        "    print(\"device.mobileDeviceBranding-not available in demo dataset\",df['device.mobileDeviceBranding'].str.contains(r'not available in demo dataset').sum())\n",
        "    print(\"device.mobileDeviceModel-not available in demo dataset\",df['device.mobileDeviceModel'].str.contains(r'not available in demo dataset').sum())\n",
        "    print(\"device.mobileInputSelector-not available in demo dataset\",df['device.mobileInputSelector'].str.contains(r'not available in demo dataset').sum())\n",
        "    print(\"device.mobileDeviceInfo-not available in demo dataset\",df['device.mobileDeviceInfo'].str.contains(r'not available in demo dataset').sum())\n",
        "    print(\"device.mobileDeviceMarketingName-not available in demo dataset\",df['device.mobileDeviceMarketingName'].str.contains(r'not available in demo dataset').sum())\n",
        "    print(\"device.flashVersion-not available in demo dataset\",df['device.flashVersion'].str.contains(r'not available in demo dataset').sum())\n",
        "    print(\"device.language-not available in demo dataset\",df['device.language'].str.contains(r'not available in demo dataset').sum())\n",
        "    print(\"device.screenColors-not available in demo dataset\",df['device.screenColors'].str.contains(r'not available in demo dataset').sum())\n",
        "    print(\"device.screenResolution-not available in demo dataset\",df['device.screenResolution'].str.contains(r'not available in demo dataset').sum())\n",
        "    print(\"geoNetwork.region-not available in demo dataset\",df['geoNetwork.region'].str.contains(r'not available in demo dataset').sum())\n",
        "    print(\"geoNetwork.metro-not available in demo dataset\",df['geoNetwork.metro'].str.contains(r'not available in demo dataset').sum())\n",
        "    print(\"geoNetwork.city-not available in demo dataset\",df['geoNetwork.city'].str.contains(r'not available in demo dataset').sum())\n",
        "    print(\"geoNetwork.cityId-not available in demo dataset\",df['geoNetwork.cityId'].str.contains(r'not available in demo dataset').sum())\n",
        "    print(\"geoNetwork.networkDomain-unknown.unknown\",df['geoNetwork.networkDomain'].str.contains(r'unknown.unknown').sum())\n",
        "    print(\"geoNetwork.latitude-not available in demo dataset\",df['geoNetwork.latitude'].str.contains(r'not available in demo dataset').sum())\n",
        "    print(\"geoNetwork.longitude-not available in demo dataset\",df['geoNetwork.longitude'].str.contains(r'not available in demo dataset').sum())\n",
        "    print(\"geoNetwork.networkLocation-not available in demo dataset\",df['geoNetwork.networkLocation'].str.contains(r'not available in demo dataset').sum())\n",
        "    print(\"trafficSource.adwordsClickInfo.criteriaParameters-not available in demo dataset\",df['trafficSource.adwordsClickInfo.criteriaParameters'].str.contains(r'not available in demo dataset').sum())\n",
        "    print(\"trafficSource.campaign-not set\",df['trafficSource.campaign'].str.contains(r'(not set)').sum())"
      ],
      "execution_count": 0,
      "outputs": []
    },
    {
      "cell_type": "markdown",
      "metadata": {
        "id": "ir8qViVI0rtq",
        "colab_type": "text"
      },
      "source": [
        "#let's remove all these columns"
      ]
    },
    {
      "cell_type": "code",
      "metadata": {
        "id": "ntb4QnJi0v5g",
        "colab_type": "code",
        "colab": {}
      },
      "source": [
        "def drop_unwanted_col(df):\n",
        "    df.drop(['totals.bounces','trafficSource.keyword','trafficSource.isTrueDirect','trafficSource.referralPath','trafficSource.adwordsClickInfo.page', \n",
        "    'trafficSource.adwordsClickInfo.slot','trafficSource.adwordsClickInfo.gclId','trafficSource.adwordsClickInfo.adNetworkType',\n",
        "    'trafficSource.adwordsClickInfo.isVideoAd','trafficSource.adContent','trafficSource.campaignCode','Unnamed: 0','totals.sessionQualityDim','totals.timeOnSite','totals.totalTransactionRevenue','totals.transactions'],axis=1, inplace=True)\n",
        "             \n",
        "    df.drop(['device.browserVersion','device.browserSize','device.operatingSystemVersion','device.mobileDeviceBranding','device.isMobile','device.mobileDeviceModel',\n",
        "    'device.mobileInputSelector','device.mobileDeviceInfo','device.mobileDeviceMarketingName','device.flashVersion','device.language','device.screenColors',\n",
        "    'device.screenResolution','geoNetwork.region','geoNetwork.metro','geoNetwork.city','geoNetwork.cityId','geoNetwork.networkDomain','geoNetwork.latitude',\n",
        "    'geoNetwork.longitude','geoNetwork.networkLocation','trafficSource.adwordsClickInfo.criteriaParameters','trafficSource.campaign'],axis=1, inplace=True)\n",
        "    return df"
      ],
      "execution_count": 0,
      "outputs": []
    },
    {
      "cell_type": "code",
      "metadata": {
        "id": "ZzkztEo7lN5-",
        "colab_type": "code",
        "colab": {}
      },
      "source": [
        "def drop_unwanted_col_test(df):\n",
        "    df.drop(['totals.bounces','trafficSource.keyword','trafficSource.isTrueDirect','trafficSource.referralPath','trafficSource.adwordsClickInfo.page', \n",
        "    'trafficSource.adwordsClickInfo.slot','trafficSource.adwordsClickInfo.gclId','trafficSource.adwordsClickInfo.adNetworkType',\n",
        "    'trafficSource.adwordsClickInfo.isVideoAd','trafficSource.adContent','Unnamed: 0','totals.sessionQualityDim','totals.timeOnSite','totals.totalTransactionRevenue','totals.transactions','totals.transactionRevenue' ],axis=1, inplace=True)\n",
        "    df.drop(['device.browserVersion','device.browserSize','device.operatingSystemVersion','device.mobileDeviceBranding','device.isMobile','device.mobileDeviceModel',\n",
        "    'device.mobileInputSelector','device.mobileDeviceInfo','device.mobileDeviceMarketingName','device.flashVersion','device.language','device.screenColors',\n",
        "    'device.screenResolution','geoNetwork.region','geoNetwork.metro','geoNetwork.city','geoNetwork.cityId','geoNetwork.networkDomain','geoNetwork.latitude',\n",
        "    'geoNetwork.longitude','geoNetwork.networkLocation','trafficSource.adwordsClickInfo.criteriaParameters','trafficSource.campaign'],axis=1, inplace=True)\n",
        "    \n",
        "    return df"
      ],
      "execution_count": 0,
      "outputs": []
    },
    {
      "cell_type": "code",
      "metadata": {
        "id": "Nq6rOsGStpqS",
        "colab_type": "code",
        "colab": {}
      },
      "source": [
        "def column_renaming(df):\n",
        "    df.rename(columns={'device.browser': 'device_browser', 'device.operatingSystem': 'device_operatingSystem','device.deviceCategory':'device_deviceCategory','geoNetwork.continent':'geoNetwork_continent','geoNetwork.subContinent':'geoNetwork_subContinent','geoNetwork.country':'geoNetwork_country','totals.visits':'totals_visits','totals.hits':'totals_hits','totals.pageviews':'totals_pageviews','totals.newVisits':'totals_newVisits','totals.transactionRevenue':'totals_transactionRevenue','trafficSource.source':'trafficSource_source','trafficSource.medium':'trafficSource_medium'}, inplace=True)\n",
        "    return df"
      ],
      "execution_count": 0,
      "outputs": []
    },
    {
      "cell_type": "code",
      "metadata": {
        "id": "R6ZrN5umuKp7",
        "colab_type": "code",
        "colab": {}
      },
      "source": [
        "def column_renaming_test(df):\n",
        "    df.rename(columns={'device.browser': 'device_browser', 'device.operatingSystem': 'device_operatingSystem','device.deviceCategory':'device_deviceCategory','geoNetwork.continent':'geoNetwork_continent','geoNetwork.subContinent':'geoNetwork_subContinent','geoNetwork.country':'geoNetwork_country','totals.visits':'totals_visits','totals.hits':'totals_hits','totals.pageviews':'totals_pageviews','totals.newVisits':'totals_newVisits','trafficSource.source':'trafficSource_source','trafficSource.medium':'trafficSource_medium'}, inplace=True)\n",
        "    return df"
      ],
      "execution_count": 0,
      "outputs": []
    },
    {
      "cell_type": "code",
      "metadata": {
        "id": "hYs8dnRACnqK",
        "colab_type": "code",
        "colab": {}
      },
      "source": [
        "#first change date format to yyymmdd and then create three columns year,month and day\n",
        "def date_extraction(df):\n",
        "    df['date'] = pd.to_datetime(df['date'], format='%Y%m%d', errors='ignore')\n",
        "    df['year'] = df['date'].apply(lambda x: x.year)\n",
        "    df['month'] = df['date'].apply(lambda x: x.month)\n",
        "    df['day'] = df['date'].apply(lambda x: x.day)\n",
        "    df.sort_values(['fullVisitorId', 'date'], ascending=True, inplace=True)\n",
        "    df.drop(['date','visitStartTime'],axis=1, inplace=True)\n",
        "    return df"
      ],
      "execution_count": 0,
      "outputs": []
    },
    {
      "cell_type": "code",
      "metadata": {
        "id": "hm2daxrfrtel",
        "colab_type": "code",
        "colab": {}
      },
      "source": [
        "def handle_na_values(df):\n",
        "    #1.in geo_network data some values are not set values those will be handled when we will convert them to numerical data\n",
        "    #2.device same all will be taken care at time of numerical data conversion\n",
        "    #3.traffic source\n",
        "    #4.visitNumber\n",
        "    #totals.newVisits\n",
        "    df[\"totals_newVisits\"].fillna(0, inplace=True)\n",
        "    #totals.pageviews\n",
        "    df[\"totals_pageviews\"].fillna(1, inplace=True)\n",
        "    #totals.transactionRevenue\n",
        "    df[\"totals_transactionRevenue\"].replace('', 0, inplace=True)\n",
        "    df[\"totals_transactionRevenue\"].fillna(0, inplace=True)\n",
        "    df['totals_transactionRevenue'] = np.log1p(df['totals_transactionRevenue'].astype(float))\n",
        "\n",
        "    df[\"totals_newVisits\"]=df[\"totals_newVisits\"].astype(int)\n",
        "    df[\"totals_pageviews\"]=df[\"totals_pageviews\"].astype(int)\n",
        "    df[\"visitNumber\"]=df[\"visitNumber\"].astype(int)\n",
        "    df[\"totals_visits\"]=df[\"totals_visits\"].astype(int)\n",
        "    df[\"totals_hits\"]=df[\"totals_hits\"].astype(int)\n",
        "    df[\"totals_transactionRevenue\"]=df[\"totals_transactionRevenue\"].astype(int)\n",
        "\n",
        "    return df\n"
      ],
      "execution_count": 0,
      "outputs": []
    },
    {
      "cell_type": "code",
      "metadata": {
        "id": "kJg1EgR97acm",
        "colab_type": "code",
        "colab": {}
      },
      "source": [
        "def handle_na_values_test(df):\n",
        "    #1.in geo_network data some values are not set values those will be handled when we will convert them to numerical data\n",
        "    #2.device same all will be taken care at time of numerical data conversion\n",
        "    #3.traffic source\n",
        "    #4.visitNumber\n",
        "    #totals.newVisits\n",
        "    df[\"totals_newVisits\"].fillna(0, inplace=True)\n",
        "    #totals.pageviews\n",
        "    df[\"totals_pageviews\"].fillna(1, inplace=True)\n",
        "    #totals.transactionRevenue\n",
        "    \n",
        "\n",
        "    df[\"totals_newVisits\"]=df[\"totals_newVisits\"].astype(int)\n",
        "    df[\"totals_pageviews\"]=df[\"totals_pageviews\"].astype(int)\n",
        "    df[\"visitNumber\"]=df[\"visitNumber\"].astype(int)\n",
        "    df[\"totals_visits\"]=df[\"totals_visits\"].astype(int)\n",
        "    df[\"totals_hits\"]=df[\"totals_hits\"].astype(int)\n",
        "    \n",
        "\n",
        "    return df\n"
      ],
      "execution_count": 0,
      "outputs": []
    },
    {
      "cell_type": "code",
      "metadata": {
        "id": "fp2ePtVAIPzK",
        "colab_type": "code",
        "colab": {}
      },
      "source": [
        "def add_new_features(df):\n",
        "    #first feature we can add is mean hits by user per day basis\n",
        "    df['sum_visits_per_day']=df.groupby(['fullVisitorId','year','month','day'])['totals_visits'].transform('sum')\n",
        "    df['mean_visits_per_day']=df.groupby(['fullVisitorId','year','month','day'])['totals_visits'].transform('mean')\n",
        "    df['sum_hits_per_day']=df.groupby(['fullVisitorId','year','month','day'])['totals_hits'].transform('sum')\n",
        "    df['mean_hits_per_day']=df.groupby(['fullVisitorId','year','month','day'])['totals_visits'].transform('mean')\n",
        "    df['sum_pageviews_per_day']=df.groupby(['fullVisitorId','year','month','day'])['totals_pageviews'].transform('sum')\n",
        "    df['mean_pageviews_per_day']=df.groupby(['fullVisitorId','year','month','day'])['totals_pageviews'].transform('mean')\n",
        "    df['sum_newvisits_per_day']=df.groupby(['fullVisitorId','year','month','day'])['totals_newVisits'].transform('sum')\n",
        "    df['mean_newvists_per_day']=df.groupby(['fullVisitorId','year','month','day'])['totals_newVisits'].transform('mean')\n",
        "\n",
        "    return df"
      ],
      "execution_count": 0,
      "outputs": []
    },
    {
      "cell_type": "code",
      "metadata": {
        "id": "0zWMcYKzcKpx",
        "colab_type": "code",
        "colab": {}
      },
      "source": [
        "def feature_engineering(df):\n",
        "    colnames_numerics_only = df.select_dtypes(include=np.number).columns.tolist()\n",
        "    print(colnames_numerics_only)\n",
        "    categorical_cols=[col for col in df.columns if col not in colnames_numerics_only  and col not in ['fullVisitorId', 'sessionId']]\n",
        "    print(categorical_cols)\n",
        "    for col in categorical_cols:\n",
        "        #print(\"transform column {}\".format(col))\n",
        "        lbe = LabelEncoder()\n",
        "        lbe.fit(df[col].astype('str'))\n",
        "        df[col] = lbe.transform(df[col].astype('str'))\n",
        "    return df"
      ],
      "execution_count": 0,
      "outputs": []
    },
    {
      "cell_type": "code",
      "metadata": {
        "id": "2CfZ4niJvKRP",
        "colab_type": "code",
        "colab": {}
      },
      "source": [
        "num_feat=['visitNumber','totals_visits','totals_hits','totals_pageviews','totals_newVisits']\n",
        "def feature_engineering_numercal(df):\n",
        "    for col in num_feat:\n",
        "        robust_scaler = RobustScaler()\n",
        "        df[col] = robust_scaler.fit_transform(df)\n",
        "    return df"
      ],
      "execution_count": 0,
      "outputs": []
    },
    {
      "cell_type": "code",
      "metadata": {
        "id": "gUOWvhTux-Ss",
        "colab_type": "code",
        "colab": {}
      },
      "source": [
        "df.drop(['date','fullVisitorId','sessionId','visitId','visitStartTime'],axis=1, inplace=True)"
      ],
      "execution_count": 0,
      "outputs": []
    },
    {
      "cell_type": "code",
      "metadata": {
        "id": "T_Etm-8r0Sts",
        "colab_type": "code",
        "colab": {}
      },
      "source": [
        "df.to_csv(r'/content/drive/My Drive/gstore_preprocessed_data_test.csv', index = None, header=True)"
      ],
      "execution_count": 0,
      "outputs": []
    },
    {
      "cell_type": "code",
      "metadata": {
        "id": "jZgZ2QO24OpT",
        "colab_type": "code",
        "colab": {}
      },
      "source": [
        "train=pd.read_csv(r'/content/drive/My Drive/gstore_preprocessed_data.csv')\n",
        "test=pd.read_csv(r'/content/drive/My Drive/gstore_preprocessed_data_test.csv')"
      ],
      "execution_count": 0,
      "outputs": []
    },
    {
      "cell_type": "code",
      "metadata": {
        "id": "8ZgpOdpdD3vB",
        "colab_type": "code",
        "colab": {}
      },
      "source": [
        "df.to_csv(r'/content/drive/My Drive/gstore_preprocessed_data_test.csv', index = None, header=True)"
      ],
      "execution_count": 0,
      "outputs": []
    },
    {
      "cell_type": "code",
      "metadata": {
        "id": "7RjuPAoULqLJ",
        "colab_type": "code",
        "outputId": "461201fb-7a08-4b63-dd3f-1bc7378e701f",
        "colab": {
          "base_uri": "https://localhost:8080/",
          "height": 85
        }
      },
      "source": [
        "df=pd.read_csv(\"/content/drive/My Drive/gstore_preprocessed_data.csv\")"
      ],
      "execution_count": 0,
      "outputs": [
        {
          "output_type": "stream",
          "text": [
            "/usr/local/lib/python3.6/dist-packages/IPython/core/interactiveshell.py:2718: DtypeWarning:\n",
            "\n",
            "Columns (2) have mixed types. Specify dtype option on import or set low_memory=False.\n",
            "\n"
          ],
          "name": "stderr"
        }
      ]
    },
    {
      "cell_type": "code",
      "metadata": {
        "id": "PFt6S39JP6Qp",
        "colab_type": "code",
        "colab": {}
      },
      "source": [
        "df.drop(['date','fullVisitorId','sessionId','visitId','visitStartTime','mean_hits_per_day','mean_pageviews_per_day','sum_hits_per_day','sum_pageviews_per_day'],axis=1, inplace=True)"
      ],
      "execution_count": 0,
      "outputs": []
    },
    {
      "cell_type": "markdown",
      "metadata": {
        "id": "RcyGTfums1YV",
        "colab_type": "text"
      },
      "source": [
        "# Process Data"
      ]
    },
    {
      "cell_type": "code",
      "metadata": {
        "id": "P0EQzKf5JSxr",
        "colab_type": "code",
        "outputId": "82feae47-8fb7-4d7a-8357-797a1da70966",
        "colab": {
          "base_uri": "https://localhost:8080/",
          "height": 34
        }
      },
      "source": [
        "#since file size is too large we need to increasecsv limit\n",
        "csv.field_size_limit(sys.maxsize)"
      ],
      "execution_count": 0,
      "outputs": [
        {
          "output_type": "execute_result",
          "data": {
            "text/plain": [
              "131072"
            ]
          },
          "metadata": {
            "tags": []
          },
          "execution_count": 4
        }
      ]
    },
    {
      "cell_type": "code",
      "metadata": {
        "id": "N2P_P7zjs3h0",
        "colab_type": "code",
        "colab": {}
      },
      "source": [
        "df_train=convert_df_columns_train()"
      ],
      "execution_count": 0,
      "outputs": []
    },
    {
      "cell_type": "code",
      "metadata": {
        "id": "mugkY89QM4Or",
        "colab_type": "code",
        "colab": {}
      },
      "source": [
        "df_test=convert_df_columns_train()"
      ],
      "execution_count": 0,
      "outputs": []
    },
    {
      "cell_type": "code",
      "metadata": {
        "id": "rRMOLTJDN-9_",
        "colab_type": "code",
        "colab": {}
      },
      "source": [
        "df_train.to_csv(r'/content/drive/My Drive/train_google_2.csv', index = None, header=True)"
      ],
      "execution_count": 0,
      "outputs": []
    },
    {
      "cell_type": "code",
      "metadata": {
        "id": "OD8R9BYcOKLd",
        "colab_type": "code",
        "colab": {}
      },
      "source": [
        "df_test.to_csv(r'/content/drive/My Drive/test_google_2.csv', index = None, header=True)"
      ],
      "execution_count": 0,
      "outputs": []
    },
    {
      "cell_type": "code",
      "metadata": {
        "id": "zYpl85GOOU1E",
        "colab_type": "code",
        "colab": {}
      },
      "source": [
        "#Preprocess train data"
      ],
      "execution_count": 0,
      "outputs": []
    },
    {
      "cell_type": "code",
      "metadata": {
        "id": "xbNc8V2DVhmE",
        "colab_type": "code",
        "outputId": "0509dd1e-1561-4c90-f248-a3ab4678ada1",
        "colab": {
          "base_uri": "https://localhost:8080/",
          "height": 85
        }
      },
      "source": [
        "df=pd.read_csv('/content/drive/My Drive/train_google_2.csv')"
      ],
      "execution_count": 0,
      "outputs": [
        {
          "output_type": "stream",
          "text": [
            "/usr/local/lib/python3.6/dist-packages/IPython/core/interactiveshell.py:2718: DtypeWarning:\n",
            "\n",
            "Columns (19,50) have mixed types.Specify dtype option on import or set low_memory=False.\n",
            "\n"
          ],
          "name": "stderr"
        }
      ]
    },
    {
      "cell_type": "code",
      "metadata": {
        "id": "N7VkD6icjOwW",
        "colab_type": "code",
        "outputId": "85661a3e-af82-4881-8741-13267b8435c4",
        "colab": {
          "base_uri": "https://localhost:8080/",
          "height": 343
        }
      },
      "source": [
        "df.head(5)"
      ],
      "execution_count": 0,
      "outputs": [
        {
          "output_type": "execute_result",
          "data": {
            "text/html": [
              "<div>\n",
              "<style scoped>\n",
              "    .dataframe tbody tr th:only-of-type {\n",
              "        vertical-align: middle;\n",
              "    }\n",
              "\n",
              "    .dataframe tbody tr th {\n",
              "        vertical-align: top;\n",
              "    }\n",
              "\n",
              "    .dataframe thead th {\n",
              "        text-align: right;\n",
              "    }\n",
              "</style>\n",
              "<table border=\"1\" class=\"dataframe\">\n",
              "  <thead>\n",
              "    <tr style=\"text-align: right;\">\n",
              "      <th></th>\n",
              "      <th>Unnamed: 0</th>\n",
              "      <th>channelGrouping</th>\n",
              "      <th>date</th>\n",
              "      <th>device.browser</th>\n",
              "      <th>device.browserSize</th>\n",
              "      <th>device.browserVersion</th>\n",
              "      <th>device.deviceCategory</th>\n",
              "      <th>device.flashVersion</th>\n",
              "      <th>device.isMobile</th>\n",
              "      <th>device.language</th>\n",
              "      <th>device.mobileDeviceBranding</th>\n",
              "      <th>device.mobileDeviceInfo</th>\n",
              "      <th>device.mobileDeviceMarketingName</th>\n",
              "      <th>device.mobileDeviceModel</th>\n",
              "      <th>device.mobileInputSelector</th>\n",
              "      <th>device.operatingSystem</th>\n",
              "      <th>device.operatingSystemVersion</th>\n",
              "      <th>device.screenColors</th>\n",
              "      <th>device.screenResolution</th>\n",
              "      <th>fullVisitorId</th>\n",
              "      <th>geoNetwork.city</th>\n",
              "      <th>geoNetwork.cityId</th>\n",
              "      <th>geoNetwork.continent</th>\n",
              "      <th>geoNetwork.country</th>\n",
              "      <th>geoNetwork.latitude</th>\n",
              "      <th>geoNetwork.longitude</th>\n",
              "      <th>geoNetwork.metro</th>\n",
              "      <th>geoNetwork.networkDomain</th>\n",
              "      <th>geoNetwork.networkLocation</th>\n",
              "      <th>geoNetwork.region</th>\n",
              "      <th>geoNetwork.subContinent</th>\n",
              "      <th>socialEngagementType</th>\n",
              "      <th>totals.bounces</th>\n",
              "      <th>totals.hits</th>\n",
              "      <th>totals.newVisits</th>\n",
              "      <th>totals.pageviews</th>\n",
              "      <th>totals.sessionQualityDim</th>\n",
              "      <th>totals.timeOnSite</th>\n",
              "      <th>totals.totalTransactionRevenue</th>\n",
              "      <th>totals.transactionRevenue</th>\n",
              "      <th>totals.transactions</th>\n",
              "      <th>totals.visits</th>\n",
              "      <th>trafficSource.adContent</th>\n",
              "      <th>trafficSource.adwordsClickInfo.adNetworkType</th>\n",
              "      <th>trafficSource.adwordsClickInfo.criteriaParameters</th>\n",
              "      <th>trafficSource.adwordsClickInfo.gclId</th>\n",
              "      <th>trafficSource.adwordsClickInfo.isVideoAd</th>\n",
              "      <th>trafficSource.adwordsClickInfo.page</th>\n",
              "      <th>trafficSource.adwordsClickInfo.slot</th>\n",
              "      <th>trafficSource.campaign</th>\n",
              "      <th>trafficSource.campaignCode</th>\n",
              "      <th>trafficSource.isTrueDirect</th>\n",
              "      <th>trafficSource.keyword</th>\n",
              "      <th>trafficSource.medium</th>\n",
              "      <th>trafficSource.referralPath</th>\n",
              "      <th>trafficSource.source</th>\n",
              "      <th>visitId</th>\n",
              "      <th>visitNumber</th>\n",
              "      <th>visitStartTime</th>\n",
              "    </tr>\n",
              "  </thead>\n",
              "  <tbody>\n",
              "    <tr>\n",
              "      <th>0</th>\n",
              "      <td>0</td>\n",
              "      <td>Organic Search</td>\n",
              "      <td>20171016</td>\n",
              "      <td>Firefox</td>\n",
              "      <td>not available in demo dataset</td>\n",
              "      <td>not available in demo dataset</td>\n",
              "      <td>desktop</td>\n",
              "      <td>not available in demo dataset</td>\n",
              "      <td>False</td>\n",
              "      <td>not available in demo dataset</td>\n",
              "      <td>not available in demo dataset</td>\n",
              "      <td>not available in demo dataset</td>\n",
              "      <td>not available in demo dataset</td>\n",
              "      <td>not available in demo dataset</td>\n",
              "      <td>not available in demo dataset</td>\n",
              "      <td>Windows</td>\n",
              "      <td>not available in demo dataset</td>\n",
              "      <td>not available in demo dataset</td>\n",
              "      <td>not available in demo dataset</td>\n",
              "      <td>3162355547410993243</td>\n",
              "      <td>not available in demo dataset</td>\n",
              "      <td>not available in demo dataset</td>\n",
              "      <td>Europe</td>\n",
              "      <td>Germany</td>\n",
              "      <td>not available in demo dataset</td>\n",
              "      <td>not available in demo dataset</td>\n",
              "      <td>not available in demo dataset</td>\n",
              "      <td>(not set)</td>\n",
              "      <td>not available in demo dataset</td>\n",
              "      <td>not available in demo dataset</td>\n",
              "      <td>Western Europe</td>\n",
              "      <td>Not Socially Engaged</td>\n",
              "      <td>1.0</td>\n",
              "      <td>1</td>\n",
              "      <td>1.0</td>\n",
              "      <td>1.0</td>\n",
              "      <td>1.0</td>\n",
              "      <td>NaN</td>\n",
              "      <td>NaN</td>\n",
              "      <td>NaN</td>\n",
              "      <td>NaN</td>\n",
              "      <td>1</td>\n",
              "      <td>NaN</td>\n",
              "      <td>NaN</td>\n",
              "      <td>not available in demo dataset</td>\n",
              "      <td>NaN</td>\n",
              "      <td>NaN</td>\n",
              "      <td>NaN</td>\n",
              "      <td>NaN</td>\n",
              "      <td>(not set)</td>\n",
              "      <td>NaN</td>\n",
              "      <td>NaN</td>\n",
              "      <td>water bottle</td>\n",
              "      <td>organic</td>\n",
              "      <td>NaN</td>\n",
              "      <td>google</td>\n",
              "      <td>1508198450</td>\n",
              "      <td>1</td>\n",
              "      <td>1508198450</td>\n",
              "    </tr>\n",
              "    <tr>\n",
              "      <th>1</th>\n",
              "      <td>1</td>\n",
              "      <td>Referral</td>\n",
              "      <td>20171016</td>\n",
              "      <td>Chrome</td>\n",
              "      <td>not available in demo dataset</td>\n",
              "      <td>not available in demo dataset</td>\n",
              "      <td>desktop</td>\n",
              "      <td>not available in demo dataset</td>\n",
              "      <td>False</td>\n",
              "      <td>not available in demo dataset</td>\n",
              "      <td>not available in demo dataset</td>\n",
              "      <td>not available in demo dataset</td>\n",
              "      <td>not available in demo dataset</td>\n",
              "      <td>not available in demo dataset</td>\n",
              "      <td>not available in demo dataset</td>\n",
              "      <td>Chrome OS</td>\n",
              "      <td>not available in demo dataset</td>\n",
              "      <td>not available in demo dataset</td>\n",
              "      <td>not available in demo dataset</td>\n",
              "      <td>8934116514970143966</td>\n",
              "      <td>Cupertino</td>\n",
              "      <td>not available in demo dataset</td>\n",
              "      <td>Americas</td>\n",
              "      <td>United States</td>\n",
              "      <td>not available in demo dataset</td>\n",
              "      <td>not available in demo dataset</td>\n",
              "      <td>San Francisco-Oakland-San Jose CA</td>\n",
              "      <td>(not set)</td>\n",
              "      <td>not available in demo dataset</td>\n",
              "      <td>California</td>\n",
              "      <td>Northern America</td>\n",
              "      <td>Not Socially Engaged</td>\n",
              "      <td>NaN</td>\n",
              "      <td>2</td>\n",
              "      <td>NaN</td>\n",
              "      <td>2.0</td>\n",
              "      <td>2.0</td>\n",
              "      <td>28.0</td>\n",
              "      <td>NaN</td>\n",
              "      <td>NaN</td>\n",
              "      <td>NaN</td>\n",
              "      <td>1</td>\n",
              "      <td>NaN</td>\n",
              "      <td>NaN</td>\n",
              "      <td>not available in demo dataset</td>\n",
              "      <td>NaN</td>\n",
              "      <td>NaN</td>\n",
              "      <td>NaN</td>\n",
              "      <td>NaN</td>\n",
              "      <td>(not set)</td>\n",
              "      <td>NaN</td>\n",
              "      <td>NaN</td>\n",
              "      <td>NaN</td>\n",
              "      <td>referral</td>\n",
              "      <td>/a/google.com/transportation/mtv-services/bike...</td>\n",
              "      <td>sites.google.com</td>\n",
              "      <td>1508176307</td>\n",
              "      <td>6</td>\n",
              "      <td>1508176307</td>\n",
              "    </tr>\n",
              "    <tr>\n",
              "      <th>2</th>\n",
              "      <td>2</td>\n",
              "      <td>Direct</td>\n",
              "      <td>20171016</td>\n",
              "      <td>Chrome</td>\n",
              "      <td>not available in demo dataset</td>\n",
              "      <td>not available in demo dataset</td>\n",
              "      <td>mobile</td>\n",
              "      <td>not available in demo dataset</td>\n",
              "      <td>True</td>\n",
              "      <td>not available in demo dataset</td>\n",
              "      <td>not available in demo dataset</td>\n",
              "      <td>not available in demo dataset</td>\n",
              "      <td>not available in demo dataset</td>\n",
              "      <td>not available in demo dataset</td>\n",
              "      <td>not available in demo dataset</td>\n",
              "      <td>Android</td>\n",
              "      <td>not available in demo dataset</td>\n",
              "      <td>not available in demo dataset</td>\n",
              "      <td>not available in demo dataset</td>\n",
              "      <td>7992466427990357681</td>\n",
              "      <td>not available in demo dataset</td>\n",
              "      <td>not available in demo dataset</td>\n",
              "      <td>Americas</td>\n",
              "      <td>United States</td>\n",
              "      <td>not available in demo dataset</td>\n",
              "      <td>not available in demo dataset</td>\n",
              "      <td>not available in demo dataset</td>\n",
              "      <td>windjammercable.net</td>\n",
              "      <td>not available in demo dataset</td>\n",
              "      <td>not available in demo dataset</td>\n",
              "      <td>Northern America</td>\n",
              "      <td>Not Socially Engaged</td>\n",
              "      <td>NaN</td>\n",
              "      <td>2</td>\n",
              "      <td>1.0</td>\n",
              "      <td>2.0</td>\n",
              "      <td>1.0</td>\n",
              "      <td>38.0</td>\n",
              "      <td>NaN</td>\n",
              "      <td>NaN</td>\n",
              "      <td>NaN</td>\n",
              "      <td>1</td>\n",
              "      <td>NaN</td>\n",
              "      <td>NaN</td>\n",
              "      <td>not available in demo dataset</td>\n",
              "      <td>NaN</td>\n",
              "      <td>NaN</td>\n",
              "      <td>NaN</td>\n",
              "      <td>NaN</td>\n",
              "      <td>(not set)</td>\n",
              "      <td>NaN</td>\n",
              "      <td>True</td>\n",
              "      <td>NaN</td>\n",
              "      <td>(none)</td>\n",
              "      <td>NaN</td>\n",
              "      <td>(direct)</td>\n",
              "      <td>1508201613</td>\n",
              "      <td>1</td>\n",
              "      <td>1508201613</td>\n",
              "    </tr>\n",
              "    <tr>\n",
              "      <th>3</th>\n",
              "      <td>3</td>\n",
              "      <td>Organic Search</td>\n",
              "      <td>20171016</td>\n",
              "      <td>Chrome</td>\n",
              "      <td>not available in demo dataset</td>\n",
              "      <td>not available in demo dataset</td>\n",
              "      <td>desktop</td>\n",
              "      <td>not available in demo dataset</td>\n",
              "      <td>False</td>\n",
              "      <td>not available in demo dataset</td>\n",
              "      <td>not available in demo dataset</td>\n",
              "      <td>not available in demo dataset</td>\n",
              "      <td>not available in demo dataset</td>\n",
              "      <td>not available in demo dataset</td>\n",
              "      <td>not available in demo dataset</td>\n",
              "      <td>Windows</td>\n",
              "      <td>not available in demo dataset</td>\n",
              "      <td>not available in demo dataset</td>\n",
              "      <td>not available in demo dataset</td>\n",
              "      <td>9075655783635761930</td>\n",
              "      <td>not available in demo dataset</td>\n",
              "      <td>not available in demo dataset</td>\n",
              "      <td>Asia</td>\n",
              "      <td>Turkey</td>\n",
              "      <td>not available in demo dataset</td>\n",
              "      <td>not available in demo dataset</td>\n",
              "      <td>not available in demo dataset</td>\n",
              "      <td>unknown.unknown</td>\n",
              "      <td>not available in demo dataset</td>\n",
              "      <td>not available in demo dataset</td>\n",
              "      <td>Western Asia</td>\n",
              "      <td>Not Socially Engaged</td>\n",
              "      <td>NaN</td>\n",
              "      <td>2</td>\n",
              "      <td>1.0</td>\n",
              "      <td>2.0</td>\n",
              "      <td>1.0</td>\n",
              "      <td>1.0</td>\n",
              "      <td>NaN</td>\n",
              "      <td>NaN</td>\n",
              "      <td>NaN</td>\n",
              "      <td>1</td>\n",
              "      <td>NaN</td>\n",
              "      <td>NaN</td>\n",
              "      <td>not available in demo dataset</td>\n",
              "      <td>NaN</td>\n",
              "      <td>NaN</td>\n",
              "      <td>NaN</td>\n",
              "      <td>NaN</td>\n",
              "      <td>(not set)</td>\n",
              "      <td>NaN</td>\n",
              "      <td>NaN</td>\n",
              "      <td>(not provided)</td>\n",
              "      <td>organic</td>\n",
              "      <td>NaN</td>\n",
              "      <td>google</td>\n",
              "      <td>1508169851</td>\n",
              "      <td>1</td>\n",
              "      <td>1508169851</td>\n",
              "    </tr>\n",
              "    <tr>\n",
              "      <th>4</th>\n",
              "      <td>4</td>\n",
              "      <td>Organic Search</td>\n",
              "      <td>20171016</td>\n",
              "      <td>Chrome</td>\n",
              "      <td>not available in demo dataset</td>\n",
              "      <td>not available in demo dataset</td>\n",
              "      <td>desktop</td>\n",
              "      <td>not available in demo dataset</td>\n",
              "      <td>False</td>\n",
              "      <td>not available in demo dataset</td>\n",
              "      <td>not available in demo dataset</td>\n",
              "      <td>not available in demo dataset</td>\n",
              "      <td>not available in demo dataset</td>\n",
              "      <td>not available in demo dataset</td>\n",
              "      <td>not available in demo dataset</td>\n",
              "      <td>Windows</td>\n",
              "      <td>not available in demo dataset</td>\n",
              "      <td>not available in demo dataset</td>\n",
              "      <td>not available in demo dataset</td>\n",
              "      <td>6960673291025684308</td>\n",
              "      <td>not available in demo dataset</td>\n",
              "      <td>not available in demo dataset</td>\n",
              "      <td>Americas</td>\n",
              "      <td>Mexico</td>\n",
              "      <td>not available in demo dataset</td>\n",
              "      <td>not available in demo dataset</td>\n",
              "      <td>not available in demo dataset</td>\n",
              "      <td>prod-infinitum.com.mx</td>\n",
              "      <td>not available in demo dataset</td>\n",
              "      <td>not available in demo dataset</td>\n",
              "      <td>Central America</td>\n",
              "      <td>Not Socially Engaged</td>\n",
              "      <td>NaN</td>\n",
              "      <td>2</td>\n",
              "      <td>1.0</td>\n",
              "      <td>2.0</td>\n",
              "      <td>1.0</td>\n",
              "      <td>52.0</td>\n",
              "      <td>NaN</td>\n",
              "      <td>NaN</td>\n",
              "      <td>NaN</td>\n",
              "      <td>1</td>\n",
              "      <td>NaN</td>\n",
              "      <td>NaN</td>\n",
              "      <td>not available in demo dataset</td>\n",
              "      <td>NaN</td>\n",
              "      <td>NaN</td>\n",
              "      <td>NaN</td>\n",
              "      <td>NaN</td>\n",
              "      <td>(not set)</td>\n",
              "      <td>NaN</td>\n",
              "      <td>NaN</td>\n",
              "      <td>(not provided)</td>\n",
              "      <td>organic</td>\n",
              "      <td>NaN</td>\n",
              "      <td>google</td>\n",
              "      <td>1508190552</td>\n",
              "      <td>1</td>\n",
              "      <td>1508190552</td>\n",
              "    </tr>\n",
              "  </tbody>\n",
              "</table>\n",
              "</div>"
            ],
            "text/plain": [
              "   Unnamed: 0 channelGrouping  ...  visitNumber visitStartTime\n",
              "0           0  Organic Search  ...            1     1508198450\n",
              "1           1        Referral  ...            6     1508176307\n",
              "2           2          Direct  ...            1     1508201613\n",
              "3           3  Organic Search  ...            1     1508169851\n",
              "4           4  Organic Search  ...            1     1508190552\n",
              "\n",
              "[5 rows x 59 columns]"
            ]
          },
          "metadata": {
            "tags": []
          },
          "execution_count": 18
        }
      ]
    },
    {
      "cell_type": "code",
      "metadata": {
        "id": "O6BnA5mLtOZw",
        "colab_type": "code",
        "outputId": "6f6e34f0-5f44-4a62-8cfd-5912740aa596",
        "colab": {
          "base_uri": "https://localhost:8080/",
          "height": 1000
        }
      },
      "source": [
        "#this function gives you NA count\n",
        "get_na_count(df)"
      ],
      "execution_count": 0,
      "outputs": [
        {
          "output_type": "stream",
          "text": [
            "(1708337, 59)\n",
            "Unnamed: 0                                                 0\n",
            "channelGrouping                                            0\n",
            "date                                                       0\n",
            "device.browser                                             0\n",
            "device.browserSize                                         0\n",
            "device.browserVersion                                      0\n",
            "device.deviceCategory                                      0\n",
            "device.flashVersion                                        0\n",
            "device.isMobile                                            0\n",
            "device.language                                            0\n",
            "device.mobileDeviceBranding                                0\n",
            "device.mobileDeviceInfo                                    0\n",
            "device.mobileDeviceMarketingName                           0\n",
            "device.mobileDeviceModel                                   0\n",
            "device.mobileInputSelector                                 0\n",
            "device.operatingSystem                                     0\n",
            "device.operatingSystemVersion                              0\n",
            "device.screenColors                                        0\n",
            "device.screenResolution                                    0\n",
            "fullVisitorId                                              0\n",
            "geoNetwork.city                                            0\n",
            "geoNetwork.cityId                                          0\n",
            "geoNetwork.continent                                       0\n",
            "geoNetwork.country                                         0\n",
            "geoNetwork.latitude                                        0\n",
            "geoNetwork.longitude                                       0\n",
            "geoNetwork.metro                                           0\n",
            "geoNetwork.networkDomain                                   0\n",
            "geoNetwork.networkLocation                                 0\n",
            "geoNetwork.region                                          0\n",
            "geoNetwork.subContinent                                    0\n",
            "socialEngagementType                                       0\n",
            "totals.bounces                                        836759\n",
            "totals.hits                                                0\n",
            "totals.newVisits                                      400907\n",
            "totals.pageviews                                         239\n",
            "totals.sessionQualityDim                              835274\n",
            "totals.timeOnSite                                     874294\n",
            "totals.totalTransactionRevenue                       1689823\n",
            "totals.transactionRevenue                            1689823\n",
            "totals.transactions                                  1689778\n",
            "totals.visits                                              0\n",
            "trafficSource.adContent                              1643600\n",
            "trafficSource.adwordsClickInfo.adNetworkType         1633063\n",
            "trafficSource.adwordsClickInfo.criteriaParameters          0\n",
            "trafficSource.adwordsClickInfo.gclId                 1632914\n",
            "trafficSource.adwordsClickInfo.isVideoAd             1633063\n",
            "trafficSource.adwordsClickInfo.page                  1633063\n",
            "trafficSource.adwordsClickInfo.slot                  1633063\n",
            "trafficSource.campaign                                     0\n",
            "trafficSource.campaignCode                           1708336\n",
            "trafficSource.isTrueDirect                           1173819\n",
            "trafficSource.keyword                                1052780\n",
            "trafficSource.medium                                       0\n",
            "trafficSource.referralPath                           1142073\n",
            "trafficSource.source                                       0\n",
            "visitId                                                    0\n",
            "visitNumber                                                0\n",
            "visitStartTime                                             0\n",
            "dtype: int64\n"
          ],
          "name": "stdout"
        }
      ]
    },
    {
      "cell_type": "code",
      "metadata": {
        "id": "IqOVH8oyw1Dc",
        "colab_type": "code",
        "outputId": "5d0a02af-9f18-4b06-eb46-a9034ee0d952",
        "colab": {
          "base_uri": "https://localhost:8080/",
          "height": 459
        }
      },
      "source": [
        "#there are some columns which have column value as not available in demo\n",
        "get_not_available_data_columns(df)"
      ],
      "execution_count": 0,
      "outputs": [
        {
          "output_type": "stream",
          "text": [
            "device.browserVersion-not available in demo dataset 401589\n",
            "device.browserSize-not available in demo dataset 401589\n",
            "device.operatingSystemVersion-not available in demo dataset 401589\n",
            "device.mobileDeviceBranding-not available in demo dataset 401589\n",
            "device.mobileDeviceModel-not available in demo dataset 401589\n",
            "device.mobileInputSelector-not available in demo dataset 401589\n",
            "device.mobileDeviceInfo-not available in demo dataset 401589\n",
            "device.mobileDeviceMarketingName-not available in demo dataset 401589\n",
            "device.flashVersion-not available in demo dataset 401589\n",
            "device.language-not available in demo dataset 401589\n",
            "device.screenColors-not available in demo dataset 401589\n",
            "device.screenResolution-not available in demo dataset 401589\n",
            "geoNetwork.region-not available in demo dataset 206434\n",
            "geoNetwork.metro-not available in demo dataset 206434\n",
            "geoNetwork.city-not available in demo dataset 206434\n",
            "geoNetwork.cityId-not available in demo dataset 401589\n",
            "geoNetwork.networkDomain-unknown.unknown 56949\n",
            "geoNetwork.latitude-not available in demo dataset 401589\n",
            "geoNetwork.longitude-not available in demo dataset 401589\n",
            "geoNetwork.networkLocation-not available in demo dataset 401589\n",
            "trafficSource.adwordsClickInfo.criteriaParameters-not available in demo dataset 401589\n",
            "trafficSource.campaign-not set 378933\n"
          ],
          "name": "stdout"
        },
        {
          "output_type": "stream",
          "text": [
            "/usr/local/lib/python3.6/dist-packages/pandas/core/strings.py:1843: UserWarning:\n",
            "\n",
            "This pattern has match groups. To actually get the groups, use str.extract.\n",
            "\n"
          ],
          "name": "stderr"
        }
      ]
    },
    {
      "cell_type": "code",
      "metadata": {
        "id": "-gjlB_blxAhi",
        "colab_type": "code",
        "colab": {}
      },
      "source": [
        "df=drop_unwanted_col_test(df)"
      ],
      "execution_count": 0,
      "outputs": []
    },
    {
      "cell_type": "code",
      "metadata": {
        "id": "4mtxsM5JWTuP",
        "colab_type": "code",
        "colab": {}
      },
      "source": [
        "#let's sum up and remove all these columns\n",
        "df=drop_unwanted_col(df)"
      ],
      "execution_count": 0,
      "outputs": []
    },
    {
      "cell_type": "code",
      "metadata": {
        "id": "hSW7Hdv1WXRX",
        "colab_type": "code",
        "outputId": "10125767-64d1-4a5a-d62c-e6d641d2e618",
        "colab": {
          "base_uri": "https://localhost:8080/",
          "height": 136
        }
      },
      "source": [
        "df.columns"
      ],
      "execution_count": 0,
      "outputs": [
        {
          "output_type": "execute_result",
          "data": {
            "text/plain": [
              "Index(['channelGrouping', 'date', 'device.browser', 'device.deviceCategory',\n",
              "       'device.operatingSystem', 'fullVisitorId', 'geoNetwork.continent',\n",
              "       'geoNetwork.country', 'geoNetwork.subContinent', 'socialEngagementType',\n",
              "       'totals.hits', 'totals.newVisits', 'totals.pageviews',\n",
              "       'totals.transactionRevenue', 'totals.visits', 'trafficSource.medium',\n",
              "       'trafficSource.source', 'visitId', 'visitNumber', 'visitStartTime'],\n",
              "      dtype='object')"
            ]
          },
          "metadata": {
            "tags": []
          },
          "execution_count": 21
        }
      ]
    },
    {
      "cell_type": "code",
      "metadata": {
        "id": "q6DXzBzByhPJ",
        "colab_type": "code",
        "colab": {}
      },
      "source": [
        "#this columns extract date from timestamp\n",
        "df=date_extraction(df)"
      ],
      "execution_count": 0,
      "outputs": []
    },
    {
      "cell_type": "code",
      "metadata": {
        "id": "xULeboYBQfp4",
        "colab_type": "code",
        "outputId": "3e0edb1c-54bf-44e8-9a94-127dd04021e5",
        "colab": {
          "base_uri": "https://localhost:8080/",
          "height": 153
        }
      },
      "source": [
        "df.columns"
      ],
      "execution_count": 0,
      "outputs": [
        {
          "output_type": "execute_result",
          "data": {
            "text/plain": [
              "Index(['channelGrouping', 'device.browser', 'device.deviceCategory',\n",
              "       'device.operatingSystem', 'fullVisitorId', 'geoNetwork.continent',\n",
              "       'geoNetwork.country', 'geoNetwork.subContinent', 'socialEngagementType',\n",
              "       'totals.hits', 'totals.newVisits', 'totals.pageviews',\n",
              "       'totals.transactionRevenue', 'totals.visits', 'trafficSource.medium',\n",
              "       'trafficSource.source', 'visitId', 'visitNumber', 'year', 'month',\n",
              "       'day'],\n",
              "      dtype='object')"
            ]
          },
          "metadata": {
            "tags": []
          },
          "execution_count": 23
        }
      ]
    },
    {
      "cell_type": "code",
      "metadata": {
        "id": "BQ0nMy31Q3PO",
        "colab_type": "code",
        "colab": {}
      },
      "source": [
        "df=column_renaming(df)"
      ],
      "execution_count": 0,
      "outputs": []
    },
    {
      "cell_type": "code",
      "metadata": {
        "id": "VUXkDVcaux-h",
        "colab_type": "code",
        "colab": {}
      },
      "source": [
        "df=column_renaming_test(df)"
      ],
      "execution_count": 0,
      "outputs": []
    },
    {
      "cell_type": "code",
      "metadata": {
        "id": "bC_duYXpX8u2",
        "colab_type": "code",
        "colab": {}
      },
      "source": [
        "df=handle_na_values(df)"
      ],
      "execution_count": 0,
      "outputs": []
    },
    {
      "cell_type": "code",
      "metadata": {
        "id": "znO-9f_uykqQ",
        "colab_type": "code",
        "colab": {}
      },
      "source": [
        ""
      ],
      "execution_count": 0,
      "outputs": []
    },
    {
      "cell_type": "code",
      "metadata": {
        "id": "zEUXPZoZMYyN",
        "colab_type": "code",
        "outputId": "5a47429f-2bbd-404e-e2d5-56a362282e38",
        "colab": {
          "base_uri": "https://localhost:8080/",
          "height": 34
        }
      },
      "source": [
        "df.shape"
      ],
      "execution_count": 0,
      "outputs": [
        {
          "output_type": "execute_result",
          "data": {
            "text/plain": [
              "(1708337, 21)"
            ]
          },
          "metadata": {
            "tags": []
          },
          "execution_count": 26
        }
      ]
    },
    {
      "cell_type": "code",
      "metadata": {
        "id": "UKaTBu3cMbTt",
        "colab_type": "code",
        "outputId": "b6a8579e-6334-42ea-d4ab-7c3fc577adee",
        "colab": {
          "base_uri": "https://localhost:8080/",
          "height": 153
        }
      },
      "source": [
        "df.columns"
      ],
      "execution_count": 0,
      "outputs": [
        {
          "output_type": "execute_result",
          "data": {
            "text/plain": [
              "Index(['channelGrouping', 'device_browser', 'device_deviceCategory',\n",
              "       'device_operatingSystem', 'fullVisitorId', 'geoNetwork_continent',\n",
              "       'geoNetwork_country', 'geoNetwork_subContinent', 'socialEngagementType',\n",
              "       'totals_hits', 'totals_newVisits', 'totals_pageviews',\n",
              "       'totals_transactionRevenue', 'totals_visits', 'trafficSource_medium',\n",
              "       'trafficSource_source', 'visitId', 'visitNumber', 'year', 'month',\n",
              "       'day'],\n",
              "      dtype='object')"
            ]
          },
          "metadata": {
            "tags": []
          },
          "execution_count": 27
        }
      ]
    },
    {
      "cell_type": "code",
      "metadata": {
        "id": "Ez38ooXDMg4G",
        "colab_type": "code",
        "outputId": "04289b58-e0d3-4a68-fe23-8789ce18181d",
        "colab": {
          "base_uri": "https://localhost:8080/",
          "height": 131
        }
      },
      "source": [
        "df.head(2)"
      ],
      "execution_count": 0,
      "outputs": [
        {
          "output_type": "execute_result",
          "data": {
            "text/html": [
              "<div>\n",
              "<style scoped>\n",
              "    .dataframe tbody tr th:only-of-type {\n",
              "        vertical-align: middle;\n",
              "    }\n",
              "\n",
              "    .dataframe tbody tr th {\n",
              "        vertical-align: top;\n",
              "    }\n",
              "\n",
              "    .dataframe thead th {\n",
              "        text-align: right;\n",
              "    }\n",
              "</style>\n",
              "<table border=\"1\" class=\"dataframe\">\n",
              "  <thead>\n",
              "    <tr style=\"text-align: right;\">\n",
              "      <th></th>\n",
              "      <th>channelGrouping</th>\n",
              "      <th>device_browser</th>\n",
              "      <th>device_deviceCategory</th>\n",
              "      <th>device_operatingSystem</th>\n",
              "      <th>fullVisitorId</th>\n",
              "      <th>geoNetwork_continent</th>\n",
              "      <th>geoNetwork_country</th>\n",
              "      <th>geoNetwork_subContinent</th>\n",
              "      <th>socialEngagementType</th>\n",
              "      <th>totals_hits</th>\n",
              "      <th>totals_newVisits</th>\n",
              "      <th>totals_pageviews</th>\n",
              "      <th>totals_transactionRevenue</th>\n",
              "      <th>totals_visits</th>\n",
              "      <th>trafficSource_medium</th>\n",
              "      <th>trafficSource_source</th>\n",
              "      <th>visitId</th>\n",
              "      <th>visitNumber</th>\n",
              "      <th>year</th>\n",
              "      <th>month</th>\n",
              "      <th>day</th>\n",
              "    </tr>\n",
              "  </thead>\n",
              "  <tbody>\n",
              "    <tr>\n",
              "      <th>680923</th>\n",
              "      <td>Organic Search</td>\n",
              "      <td>Chrome</td>\n",
              "      <td>desktop</td>\n",
              "      <td>Macintosh</td>\n",
              "      <td>259678714014</td>\n",
              "      <td>Americas</td>\n",
              "      <td>United States</td>\n",
              "      <td>Northern America</td>\n",
              "      <td>Not Socially Engaged</td>\n",
              "      <td>16</td>\n",
              "      <td>0</td>\n",
              "      <td>10</td>\n",
              "      <td>0</td>\n",
              "      <td>1</td>\n",
              "      <td>organic</td>\n",
              "      <td>google</td>\n",
              "      <td>1511914780</td>\n",
              "      <td>2</td>\n",
              "      <td>2017</td>\n",
              "      <td>11</td>\n",
              "      <td>28</td>\n",
              "    </tr>\n",
              "    <tr>\n",
              "      <th>683687</th>\n",
              "      <td>Organic Search</td>\n",
              "      <td>Chrome</td>\n",
              "      <td>desktop</td>\n",
              "      <td>Macintosh</td>\n",
              "      <td>259678714014</td>\n",
              "      <td>Americas</td>\n",
              "      <td>United States</td>\n",
              "      <td>Northern America</td>\n",
              "      <td>Not Socially Engaged</td>\n",
              "      <td>3</td>\n",
              "      <td>1</td>\n",
              "      <td>3</td>\n",
              "      <td>0</td>\n",
              "      <td>1</td>\n",
              "      <td>organic</td>\n",
              "      <td>google</td>\n",
              "      <td>1511912001</td>\n",
              "      <td>1</td>\n",
              "      <td>2017</td>\n",
              "      <td>11</td>\n",
              "      <td>28</td>\n",
              "    </tr>\n",
              "  </tbody>\n",
              "</table>\n",
              "</div>"
            ],
            "text/plain": [
              "       channelGrouping device_browser device_deviceCategory  ...  year month day\n",
              "680923  Organic Search         Chrome               desktop  ...  2017    11  28\n",
              "683687  Organic Search         Chrome               desktop  ...  2017    11  28\n",
              "\n",
              "[2 rows x 21 columns]"
            ]
          },
          "metadata": {
            "tags": []
          },
          "execution_count": 28
        }
      ]
    },
    {
      "cell_type": "code",
      "metadata": {
        "id": "TD59saUCTKWI",
        "colab_type": "code",
        "colab": {}
      },
      "source": [
        "df=add_new_features(df)"
      ],
      "execution_count": 0,
      "outputs": []
    },
    {
      "cell_type": "code",
      "metadata": {
        "id": "Q6rfDruHgbRz",
        "colab_type": "code",
        "outputId": "1b5078a2-2b10-4011-be42-bf4ebfa874c5",
        "colab": {
          "base_uri": "https://localhost:8080/",
          "height": 54
        }
      },
      "source": [
        "df=feature_engineering(df)"
      ],
      "execution_count": 0,
      "outputs": [
        {
          "output_type": "stream",
          "text": [
            "['channelGrouping', 'device_browser', 'device_deviceCategory', 'device_operatingSystem', 'geoNetwork_continent', 'geoNetwork_country', 'geoNetwork_subContinent', 'socialEngagementType', 'totals_hits', 'totals_newVisits', 'totals_pageviews', 'totals_transactionRevenue', 'totals_visits', 'trafficSource_medium', 'trafficSource_source', 'year', 'month', 'day', 'sum_visits_per_day', 'mean_visits_per_day', 'sum_hits_per_day', 'mean_hits_per_day', 'sum_pageviews_per_day', 'mean_pageviews_per_day', 'sum_newvisits_per_day', 'mean_newvists_per_day']\n"
          ],
          "name": "stdout"
        }
      ]
    },
    {
      "cell_type": "code",
      "metadata": {
        "id": "f7XeW9N2QYI-",
        "colab_type": "code",
        "outputId": "54be6b1d-bdf6-4364-f4a5-1f21314e1a0d",
        "colab": {
          "base_uri": "https://localhost:8080/",
          "height": 131
        }
      },
      "source": [
        "df.head(2)"
      ],
      "execution_count": 0,
      "outputs": [
        {
          "output_type": "execute_result",
          "data": {
            "text/html": [
              "<div>\n",
              "<style scoped>\n",
              "    .dataframe tbody tr th:only-of-type {\n",
              "        vertical-align: middle;\n",
              "    }\n",
              "\n",
              "    .dataframe tbody tr th {\n",
              "        vertical-align: top;\n",
              "    }\n",
              "\n",
              "    .dataframe thead th {\n",
              "        text-align: right;\n",
              "    }\n",
              "</style>\n",
              "<table border=\"1\" class=\"dataframe\">\n",
              "  <thead>\n",
              "    <tr style=\"text-align: right;\">\n",
              "      <th></th>\n",
              "      <th>channelGrouping</th>\n",
              "      <th>device_browser</th>\n",
              "      <th>device_deviceCategory</th>\n",
              "      <th>device_operatingSystem</th>\n",
              "      <th>fullVisitorId</th>\n",
              "      <th>geoNetwork_continent</th>\n",
              "      <th>geoNetwork_country</th>\n",
              "      <th>geoNetwork_subContinent</th>\n",
              "      <th>socialEngagementType</th>\n",
              "      <th>totals_hits</th>\n",
              "      <th>totals_newVisits</th>\n",
              "      <th>totals_pageviews</th>\n",
              "      <th>totals_transactionRevenue</th>\n",
              "      <th>totals_visits</th>\n",
              "      <th>trafficSource_medium</th>\n",
              "      <th>trafficSource_source</th>\n",
              "      <th>visitId</th>\n",
              "      <th>visitNumber</th>\n",
              "      <th>year</th>\n",
              "      <th>month</th>\n",
              "      <th>day</th>\n",
              "      <th>sum_visits_per_day</th>\n",
              "      <th>mean_visits_per_day</th>\n",
              "      <th>sum_hits_per_day</th>\n",
              "      <th>mean_hits_per_day</th>\n",
              "      <th>sum_pageviews_per_day</th>\n",
              "      <th>mean_pageviews_per_day</th>\n",
              "      <th>sum_newvisits_per_day</th>\n",
              "      <th>mean_newvists_per_day</th>\n",
              "    </tr>\n",
              "  </thead>\n",
              "  <tbody>\n",
              "    <tr>\n",
              "      <th>680923</th>\n",
              "      <td>4</td>\n",
              "      <td>35</td>\n",
              "      <td>0</td>\n",
              "      <td>7</td>\n",
              "      <td>259678714014</td>\n",
              "      <td>2</td>\n",
              "      <td>218</td>\n",
              "      <td>12</td>\n",
              "      <td>0</td>\n",
              "      <td>67</td>\n",
              "      <td>0</td>\n",
              "      <td>1</td>\n",
              "      <td>0</td>\n",
              "      <td>0</td>\n",
              "      <td>5</td>\n",
              "      <td>99</td>\n",
              "      <td>1511914780</td>\n",
              "      <td>2</td>\n",
              "      <td>1</td>\n",
              "      <td>2</td>\n",
              "      <td>20</td>\n",
              "      <td>8</td>\n",
              "      <td>0</td>\n",
              "      <td>100</td>\n",
              "      <td>0</td>\n",
              "      <td>34</td>\n",
              "      <td>551</td>\n",
              "      <td>1</td>\n",
              "      <td>10</td>\n",
              "    </tr>\n",
              "    <tr>\n",
              "      <th>683687</th>\n",
              "      <td>4</td>\n",
              "      <td>35</td>\n",
              "      <td>0</td>\n",
              "      <td>7</td>\n",
              "      <td>259678714014</td>\n",
              "      <td>2</td>\n",
              "      <td>218</td>\n",
              "      <td>12</td>\n",
              "      <td>0</td>\n",
              "      <td>184</td>\n",
              "      <td>1</td>\n",
              "      <td>131</td>\n",
              "      <td>0</td>\n",
              "      <td>0</td>\n",
              "      <td>5</td>\n",
              "      <td>99</td>\n",
              "      <td>1511912001</td>\n",
              "      <td>1</td>\n",
              "      <td>1</td>\n",
              "      <td>2</td>\n",
              "      <td>20</td>\n",
              "      <td>8</td>\n",
              "      <td>0</td>\n",
              "      <td>100</td>\n",
              "      <td>0</td>\n",
              "      <td>34</td>\n",
              "      <td>551</td>\n",
              "      <td>1</td>\n",
              "      <td>10</td>\n",
              "    </tr>\n",
              "  </tbody>\n",
              "</table>\n",
              "</div>"
            ],
            "text/plain": [
              "        channelGrouping  ...  mean_newvists_per_day\n",
              "680923                4  ...                     10\n",
              "683687                4  ...                     10\n",
              "\n",
              "[2 rows x 29 columns]"
            ]
          },
          "metadata": {
            "tags": []
          },
          "execution_count": 31
        }
      ]
    },
    {
      "cell_type": "code",
      "metadata": {
        "id": "9uBb5dGONQ_8",
        "colab_type": "code",
        "colab": {}
      },
      "source": [
        "df.drop(['fullVisitorId','visitId'],axis=1, inplace=True)"
      ],
      "execution_count": 0,
      "outputs": []
    },
    {
      "cell_type": "code",
      "metadata": {
        "id": "cSy-FhQqRNux",
        "colab_type": "code",
        "outputId": "58b4b194-de94-455a-85ae-a6a71d9afc14",
        "colab": {
          "base_uri": "https://localhost:8080/",
          "height": 34
        }
      },
      "source": [
        "df.shape"
      ],
      "execution_count": 0,
      "outputs": [
        {
          "output_type": "execute_result",
          "data": {
            "text/plain": [
              "(1708337, 27)"
            ]
          },
          "metadata": {
            "tags": []
          },
          "execution_count": 33
        }
      ]
    },
    {
      "cell_type": "code",
      "metadata": {
        "id": "G2qWUvU7Rb7M",
        "colab_type": "code",
        "colab": {}
      },
      "source": [
        "df=feature_engineering_numercal(df)"
      ],
      "execution_count": 0,
      "outputs": []
    },
    {
      "cell_type": "code",
      "metadata": {
        "id": "1TAYsUPAzbry",
        "colab_type": "code",
        "outputId": "f3910b3f-6140-42f4-a110-a54a18338930",
        "colab": {
          "base_uri": "https://localhost:8080/",
          "height": 131
        }
      },
      "source": [
        "df.head(2)"
      ],
      "execution_count": 0,
      "outputs": [
        {
          "output_type": "execute_result",
          "data": {
            "text/html": [
              "<div>\n",
              "<style scoped>\n",
              "    .dataframe tbody tr th:only-of-type {\n",
              "        vertical-align: middle;\n",
              "    }\n",
              "\n",
              "    .dataframe tbody tr th {\n",
              "        vertical-align: top;\n",
              "    }\n",
              "\n",
              "    .dataframe thead th {\n",
              "        text-align: right;\n",
              "    }\n",
              "</style>\n",
              "<table border=\"1\" class=\"dataframe\">\n",
              "  <thead>\n",
              "    <tr style=\"text-align: right;\">\n",
              "      <th></th>\n",
              "      <th>channelGrouping</th>\n",
              "      <th>device_browser</th>\n",
              "      <th>device_deviceCategory</th>\n",
              "      <th>device_operatingSystem</th>\n",
              "      <th>geoNetwork_continent</th>\n",
              "      <th>geoNetwork_country</th>\n",
              "      <th>geoNetwork_subContinent</th>\n",
              "      <th>socialEngagementType</th>\n",
              "      <th>totals_hits</th>\n",
              "      <th>totals_newVisits</th>\n",
              "      <th>totals_pageviews</th>\n",
              "      <th>totals_transactionRevenue</th>\n",
              "      <th>totals_visits</th>\n",
              "      <th>trafficSource_medium</th>\n",
              "      <th>trafficSource_source</th>\n",
              "      <th>visitNumber</th>\n",
              "      <th>year</th>\n",
              "      <th>month</th>\n",
              "      <th>day</th>\n",
              "      <th>sum_visits_per_day</th>\n",
              "      <th>mean_visits_per_day</th>\n",
              "      <th>sum_hits_per_day</th>\n",
              "      <th>mean_hits_per_day</th>\n",
              "      <th>sum_pageviews_per_day</th>\n",
              "      <th>mean_pageviews_per_day</th>\n",
              "      <th>sum_newvisits_per_day</th>\n",
              "      <th>mean_newvists_per_day</th>\n",
              "    </tr>\n",
              "  </thead>\n",
              "  <tbody>\n",
              "    <tr>\n",
              "      <th>680923</th>\n",
              "      <td>4</td>\n",
              "      <td>35</td>\n",
              "      <td>0</td>\n",
              "      <td>7</td>\n",
              "      <td>2</td>\n",
              "      <td>218</td>\n",
              "      <td>12</td>\n",
              "      <td>0</td>\n",
              "      <td>0.0</td>\n",
              "      <td>0.0</td>\n",
              "      <td>0.0</td>\n",
              "      <td>0</td>\n",
              "      <td>0.0</td>\n",
              "      <td>5</td>\n",
              "      <td>99</td>\n",
              "      <td>0.0</td>\n",
              "      <td>1</td>\n",
              "      <td>2</td>\n",
              "      <td>20</td>\n",
              "      <td>8</td>\n",
              "      <td>0</td>\n",
              "      <td>100</td>\n",
              "      <td>0</td>\n",
              "      <td>34</td>\n",
              "      <td>551</td>\n",
              "      <td>1</td>\n",
              "      <td>10</td>\n",
              "    </tr>\n",
              "    <tr>\n",
              "      <th>683687</th>\n",
              "      <td>4</td>\n",
              "      <td>35</td>\n",
              "      <td>0</td>\n",
              "      <td>7</td>\n",
              "      <td>2</td>\n",
              "      <td>218</td>\n",
              "      <td>12</td>\n",
              "      <td>0</td>\n",
              "      <td>0.0</td>\n",
              "      <td>0.0</td>\n",
              "      <td>0.0</td>\n",
              "      <td>0</td>\n",
              "      <td>0.0</td>\n",
              "      <td>5</td>\n",
              "      <td>99</td>\n",
              "      <td>0.0</td>\n",
              "      <td>1</td>\n",
              "      <td>2</td>\n",
              "      <td>20</td>\n",
              "      <td>8</td>\n",
              "      <td>0</td>\n",
              "      <td>100</td>\n",
              "      <td>0</td>\n",
              "      <td>34</td>\n",
              "      <td>551</td>\n",
              "      <td>1</td>\n",
              "      <td>10</td>\n",
              "    </tr>\n",
              "  </tbody>\n",
              "</table>\n",
              "</div>"
            ],
            "text/plain": [
              "        channelGrouping  ...  mean_newvists_per_day\n",
              "680923                4  ...                     10\n",
              "683687                4  ...                     10\n",
              "\n",
              "[2 rows x 27 columns]"
            ]
          },
          "metadata": {
            "tags": []
          },
          "execution_count": 35
        }
      ]
    },
    {
      "cell_type": "code",
      "metadata": {
        "id": "mJIQLCyy6Jyi",
        "colab_type": "code",
        "outputId": "6e1ef900-da14-4fb6-e49a-88bb27481ac7",
        "colab": {
          "base_uri": "https://localhost:8080/",
          "height": 34
        }
      },
      "source": [
        "df.shape"
      ],
      "execution_count": 0,
      "outputs": [
        {
          "output_type": "execute_result",
          "data": {
            "text/plain": [
              "(1708337, 27)"
            ]
          },
          "metadata": {
            "tags": []
          },
          "execution_count": 36
        }
      ]
    },
    {
      "cell_type": "code",
      "metadata": {
        "id": "pNf6SnSfRXIn",
        "colab_type": "code",
        "colab": {}
      },
      "source": [
        "#storing preprocessed data to google drive\n",
        "df.to_csv(r'/content/drive/My Drive/gstore_preprocessed_data_test.csv', index = None, header=True)"
      ],
      "execution_count": 0,
      "outputs": []
    },
    {
      "cell_type": "markdown",
      "metadata": {
        "id": "H9Y1M3rE6CHQ",
        "colab_type": "text"
      },
      "source": [
        "#Processing test data "
      ]
    },
    {
      "cell_type": "code",
      "metadata": {
        "id": "WnS7atGD6O2j",
        "colab_type": "code",
        "outputId": "4cd5f4ae-f9e7-4faa-9eb5-9259ad5fccc9",
        "colab": {
          "base_uri": "https://localhost:8080/",
          "height": 85
        }
      },
      "source": [
        "df_test=pd.read_csv('/content/drive/My Drive/test_google_2.csv')"
      ],
      "execution_count": 0,
      "outputs": [
        {
          "output_type": "stream",
          "text": [
            "/usr/local/lib/python3.6/dist-packages/IPython/core/interactiveshell.py:2718: DtypeWarning:\n",
            "\n",
            "Columns (19) have mixed types.Specify dtype option on import or set low_memory=False.\n",
            "\n"
          ],
          "name": "stderr"
        }
      ]
    },
    {
      "cell_type": "code",
      "metadata": {
        "id": "ULFmHSsS8PuX",
        "colab_type": "code",
        "outputId": "a2912946-d016-4468-b0b4-c75fd79da86a",
        "colab": {
          "base_uri": "https://localhost:8080/",
          "height": 1000
        }
      },
      "source": [
        "get_na_count(df_test)"
      ],
      "execution_count": 0,
      "outputs": [
        {
          "output_type": "stream",
          "text": [
            "(401589, 58)\n",
            "Unnamed: 0                                                0\n",
            "channelGrouping                                           0\n",
            "date                                                      0\n",
            "device.browser                                            0\n",
            "device.browserSize                                        0\n",
            "device.browserVersion                                     0\n",
            "device.deviceCategory                                     0\n",
            "device.flashVersion                                       0\n",
            "device.isMobile                                           0\n",
            "device.language                                           0\n",
            "device.mobileDeviceBranding                               0\n",
            "device.mobileDeviceInfo                                   0\n",
            "device.mobileDeviceMarketingName                          0\n",
            "device.mobileDeviceModel                                  0\n",
            "device.mobileInputSelector                                0\n",
            "device.operatingSystem                                    0\n",
            "device.operatingSystemVersion                             0\n",
            "device.screenColors                                       0\n",
            "device.screenResolution                                   0\n",
            "fullVisitorId                                             0\n",
            "geoNetwork.city                                           0\n",
            "geoNetwork.cityId                                         0\n",
            "geoNetwork.continent                                      0\n",
            "geoNetwork.country                                        0\n",
            "geoNetwork.latitude                                       0\n",
            "geoNetwork.longitude                                      0\n",
            "geoNetwork.metro                                          0\n",
            "geoNetwork.networkDomain                                  0\n",
            "geoNetwork.networkLocation                                0\n",
            "geoNetwork.region                                         0\n",
            "geoNetwork.subContinent                                   0\n",
            "socialEngagementType                                      0\n",
            "totals.bounces                                       218911\n",
            "totals.hits                                               0\n",
            "totals.newVisits                                     115524\n",
            "totals.pageviews                                        101\n",
            "totals.sessionQualityDim                                  0\n",
            "totals.timeOnSite                                    183686\n",
            "totals.totalTransactionRevenue                       396995\n",
            "totals.transactionRevenue                            396995\n",
            "totals.transactions                                  395284\n",
            "totals.visits                                             0\n",
            "trafficSource.adContent                                   0\n",
            "trafficSource.adwordsClickInfo.adNetworkType         390984\n",
            "trafficSource.adwordsClickInfo.criteriaParameters         0\n",
            "trafficSource.adwordsClickInfo.gclId                 390977\n",
            "trafficSource.adwordsClickInfo.isVideoAd             390984\n",
            "trafficSource.adwordsClickInfo.page                  390984\n",
            "trafficSource.adwordsClickInfo.slot                  390984\n",
            "trafficSource.campaign                                    0\n",
            "trafficSource.isTrueDirect                           253180\n",
            "trafficSource.keyword                                 40226\n",
            "trafficSource.medium                                      0\n",
            "trafficSource.referralPath                                0\n",
            "trafficSource.source                                      0\n",
            "visitId                                                   0\n",
            "visitNumber                                               0\n",
            "visitStartTime                                            0\n",
            "dtype: int64\n"
          ],
          "name": "stdout"
        }
      ]
    },
    {
      "cell_type": "code",
      "metadata": {
        "id": "9soM6dyU9rkd",
        "colab_type": "code",
        "outputId": "ff543370-7a26-49c5-def9-421eb4ed12db",
        "colab": {
          "base_uri": "https://localhost:8080/",
          "height": 459
        }
      },
      "source": [
        "get_not_available_data_columns(df_test)"
      ],
      "execution_count": 0,
      "outputs": [
        {
          "output_type": "stream",
          "text": [
            "device.browserVersion-not available in demo dataset 401589\n",
            "device.browserSize-not available in demo dataset 401589\n",
            "device.operatingSystemVersion-not available in demo dataset 401589\n",
            "device.mobileDeviceBranding-not available in demo dataset 401589\n",
            "device.mobileDeviceModel-not available in demo dataset 401589\n",
            "device.mobileInputSelector-not available in demo dataset 401589\n",
            "device.mobileDeviceInfo-not available in demo dataset 401589\n",
            "device.mobileDeviceMarketingName-not available in demo dataset 401589\n",
            "device.flashVersion-not available in demo dataset 401589\n",
            "device.language-not available in demo dataset 401589\n",
            "device.screenColors-not available in demo dataset 401589\n",
            "device.screenResolution-not available in demo dataset 401589\n",
            "geoNetwork.region-not available in demo dataset 206434\n",
            "geoNetwork.metro-not available in demo dataset 206434\n",
            "geoNetwork.city-not available in demo dataset 206434\n",
            "geoNetwork.cityId-not available in demo dataset 401589\n",
            "geoNetwork.networkDomain-unknown.unknown 56949\n",
            "geoNetwork.latitude-not available in demo dataset 401589\n",
            "geoNetwork.longitude-not available in demo dataset 401589\n",
            "geoNetwork.networkLocation-not available in demo dataset 401589\n",
            "trafficSource.adwordsClickInfo.criteriaParameters-not available in demo dataset 401589\n",
            "trafficSource.campaign-not set 378933\n"
          ],
          "name": "stdout"
        },
        {
          "output_type": "stream",
          "text": [
            "/usr/local/lib/python3.6/dist-packages/pandas/core/strings.py:1954: UserWarning:\n",
            "\n",
            "This pattern has match groups. To actually get the groups, use str.extract.\n",
            "\n"
          ],
          "name": "stderr"
        }
      ]
    },
    {
      "cell_type": "code",
      "metadata": {
        "id": "TD8Ko4gu9v0f",
        "colab_type": "code",
        "colab": {}
      },
      "source": [
        "df_test=drop_unwanted_col_test(df_test)"
      ],
      "execution_count": 0,
      "outputs": []
    },
    {
      "cell_type": "code",
      "metadata": {
        "id": "nBQfp--o92sL",
        "colab_type": "code",
        "outputId": "ec22cd5c-fe6f-41a0-de7e-3a18ed25c36e",
        "colab": {
          "base_uri": "https://localhost:8080/",
          "height": 136
        }
      },
      "source": [
        "df_test.columns"
      ],
      "execution_count": 0,
      "outputs": [
        {
          "output_type": "execute_result",
          "data": {
            "text/plain": [
              "Index(['channelGrouping', 'date', 'device.browser', 'device.deviceCategory',\n",
              "       'device.operatingSystem', 'fullVisitorId', 'geoNetwork.continent',\n",
              "       'geoNetwork.country', 'geoNetwork.subContinent', 'socialEngagementType',\n",
              "       'totals.hits', 'totals.newVisits', 'totals.pageviews', 'totals.visits',\n",
              "       'trafficSource.medium', 'trafficSource.source', 'visitId',\n",
              "       'visitNumber', 'visitStartTime'],\n",
              "      dtype='object')"
            ]
          },
          "metadata": {
            "tags": []
          },
          "execution_count": 24
        }
      ]
    },
    {
      "cell_type": "code",
      "metadata": {
        "id": "4Trg-JAB93o8",
        "colab_type": "code",
        "colab": {}
      },
      "source": [
        "df_test=date_extraction(df_test)"
      ],
      "execution_count": 0,
      "outputs": []
    },
    {
      "cell_type": "code",
      "metadata": {
        "id": "Jtk-11Z59_fK",
        "colab_type": "code",
        "outputId": "52724839-0fbd-4061-8717-15f8b138f93f",
        "colab": {
          "base_uri": "https://localhost:8080/",
          "height": 136
        }
      },
      "source": [
        "df_test.columns"
      ],
      "execution_count": 0,
      "outputs": [
        {
          "output_type": "execute_result",
          "data": {
            "text/plain": [
              "Index(['channelGrouping', 'device.browser', 'device.deviceCategory',\n",
              "       'device.operatingSystem', 'fullVisitorId', 'geoNetwork.continent',\n",
              "       'geoNetwork.country', 'geoNetwork.subContinent', 'socialEngagementType',\n",
              "       'totals.hits', 'totals.newVisits', 'totals.pageviews', 'totals.visits',\n",
              "       'trafficSource.medium', 'trafficSource.source', 'visitId',\n",
              "       'visitNumber', 'year', 'month', 'day'],\n",
              "      dtype='object')"
            ]
          },
          "metadata": {
            "tags": []
          },
          "execution_count": 26
        }
      ]
    },
    {
      "cell_type": "code",
      "metadata": {
        "id": "HRXg2M9M-D4A",
        "colab_type": "code",
        "colab": {}
      },
      "source": [
        "df_test=column_renaming_test(df_test)"
      ],
      "execution_count": 0,
      "outputs": []
    },
    {
      "cell_type": "code",
      "metadata": {
        "id": "ztlh-CP1-Glg",
        "colab_type": "code",
        "colab": {}
      },
      "source": [
        "df_test=handle_na_values_test(df_test)"
      ],
      "execution_count": 0,
      "outputs": []
    },
    {
      "cell_type": "code",
      "metadata": {
        "id": "n2BRvXw3-Mpv",
        "colab_type": "code",
        "outputId": "a1394055-3eb7-4a2b-cd4b-62d159637904",
        "colab": {
          "base_uri": "https://localhost:8080/",
          "height": 34
        }
      },
      "source": [
        "df_test.shape"
      ],
      "execution_count": 0,
      "outputs": [
        {
          "output_type": "execute_result",
          "data": {
            "text/plain": [
              "(401589, 20)"
            ]
          },
          "metadata": {
            "tags": []
          },
          "execution_count": 29
        }
      ]
    },
    {
      "cell_type": "code",
      "metadata": {
        "id": "1PCkdFMP-QKp",
        "colab_type": "code",
        "outputId": "2c6f1efd-2c56-49ed-d0b7-4b6565f426f1",
        "colab": {
          "base_uri": "https://localhost:8080/",
          "height": 136
        }
      },
      "source": [
        "df_test.columns"
      ],
      "execution_count": 0,
      "outputs": [
        {
          "output_type": "execute_result",
          "data": {
            "text/plain": [
              "Index(['channelGrouping', 'device_browser', 'device_deviceCategory',\n",
              "       'device_operatingSystem', 'fullVisitorId', 'geoNetwork_continent',\n",
              "       'geoNetwork_country', 'geoNetwork_subContinent', 'socialEngagementType',\n",
              "       'totals_hits', 'totals_newVisits', 'totals_pageviews', 'totals_visits',\n",
              "       'trafficSource_medium', 'trafficSource_source', 'visitId',\n",
              "       'visitNumber', 'year', 'month', 'day'],\n",
              "      dtype='object')"
            ]
          },
          "metadata": {
            "tags": []
          },
          "execution_count": 30
        }
      ]
    },
    {
      "cell_type": "code",
      "metadata": {
        "id": "JabhUMCF-R_Y",
        "colab_type": "code",
        "outputId": "738f5f39-4109-4f86-cd8d-29760194034b",
        "colab": {
          "base_uri": "https://localhost:8080/",
          "height": 131
        }
      },
      "source": [
        "df_test.head(2)"
      ],
      "execution_count": 0,
      "outputs": [
        {
          "output_type": "execute_result",
          "data": {
            "text/html": [
              "<div>\n",
              "<style scoped>\n",
              "    .dataframe tbody tr th:only-of-type {\n",
              "        vertical-align: middle;\n",
              "    }\n",
              "\n",
              "    .dataframe tbody tr th {\n",
              "        vertical-align: top;\n",
              "    }\n",
              "\n",
              "    .dataframe thead th {\n",
              "        text-align: right;\n",
              "    }\n",
              "</style>\n",
              "<table border=\"1\" class=\"dataframe\">\n",
              "  <thead>\n",
              "    <tr style=\"text-align: right;\">\n",
              "      <th></th>\n",
              "      <th>channelGrouping</th>\n",
              "      <th>device_browser</th>\n",
              "      <th>device_deviceCategory</th>\n",
              "      <th>device_operatingSystem</th>\n",
              "      <th>fullVisitorId</th>\n",
              "      <th>geoNetwork_continent</th>\n",
              "      <th>geoNetwork_country</th>\n",
              "      <th>geoNetwork_subContinent</th>\n",
              "      <th>socialEngagementType</th>\n",
              "      <th>totals_hits</th>\n",
              "      <th>totals_newVisits</th>\n",
              "      <th>totals_pageviews</th>\n",
              "      <th>totals_visits</th>\n",
              "      <th>trafficSource_medium</th>\n",
              "      <th>trafficSource_source</th>\n",
              "      <th>visitId</th>\n",
              "      <th>visitNumber</th>\n",
              "      <th>year</th>\n",
              "      <th>month</th>\n",
              "      <th>day</th>\n",
              "    </tr>\n",
              "  </thead>\n",
              "  <tbody>\n",
              "    <tr>\n",
              "      <th>258890</th>\n",
              "      <td>Organic Search</td>\n",
              "      <td>Chrome</td>\n",
              "      <td>mobile</td>\n",
              "      <td>Android</td>\n",
              "      <td>1995526696366</td>\n",
              "      <td>Asia</td>\n",
              "      <td>Taiwan</td>\n",
              "      <td>Eastern Asia</td>\n",
              "      <td>Not Socially Engaged</td>\n",
              "      <td>5</td>\n",
              "      <td>1</td>\n",
              "      <td>4</td>\n",
              "      <td>1</td>\n",
              "      <td>organic</td>\n",
              "      <td>google</td>\n",
              "      <td>1536654515</td>\n",
              "      <td>1</td>\n",
              "      <td>2018</td>\n",
              "      <td>9</td>\n",
              "      <td>11</td>\n",
              "    </tr>\n",
              "    <tr>\n",
              "      <th>263903</th>\n",
              "      <td>Direct</td>\n",
              "      <td>Chrome</td>\n",
              "      <td>desktop</td>\n",
              "      <td>Windows</td>\n",
              "      <td>16367580689231</td>\n",
              "      <td>Americas</td>\n",
              "      <td>Canada</td>\n",
              "      <td>Northern America</td>\n",
              "      <td>Not Socially Engaged</td>\n",
              "      <td>2</td>\n",
              "      <td>1</td>\n",
              "      <td>2</td>\n",
              "      <td>1</td>\n",
              "      <td>(none)</td>\n",
              "      <td>(direct)</td>\n",
              "      <td>1534170866</td>\n",
              "      <td>1</td>\n",
              "      <td>2018</td>\n",
              "      <td>8</td>\n",
              "      <td>13</td>\n",
              "    </tr>\n",
              "  </tbody>\n",
              "</table>\n",
              "</div>"
            ],
            "text/plain": [
              "       channelGrouping device_browser device_deviceCategory  ...  year month day\n",
              "258890  Organic Search         Chrome                mobile  ...  2018     9  11\n",
              "263903          Direct         Chrome               desktop  ...  2018     8  13\n",
              "\n",
              "[2 rows x 20 columns]"
            ]
          },
          "metadata": {
            "tags": []
          },
          "execution_count": 31
        }
      ]
    },
    {
      "cell_type": "code",
      "metadata": {
        "id": "0HnBh5vS-W4l",
        "colab_type": "code",
        "colab": {}
      },
      "source": [
        "df_test=add_new_features(df_test)"
      ],
      "execution_count": 0,
      "outputs": []
    },
    {
      "cell_type": "code",
      "metadata": {
        "id": "mxLMj2PJ-bf2",
        "colab_type": "code",
        "outputId": "62543c16-1a25-41c8-a013-c8cf30543652",
        "colab": {
          "base_uri": "https://localhost:8080/",
          "height": 71
        }
      },
      "source": [
        "df_test=feature_engineering(df_test)"
      ],
      "execution_count": 0,
      "outputs": [
        {
          "output_type": "stream",
          "text": [
            "['totals_hits', 'totals_newVisits', 'totals_pageviews', 'totals_visits', 'visitId', 'visitNumber', 'year', 'month', 'day', 'sum_visits_per_day', 'mean_visits_per_day', 'sum_hits_per_day', 'mean_hits_per_day', 'sum_pageviews_per_day', 'mean_pageviews_per_day', 'sum_newvisits_per_day', 'mean_newvists_per_day']\n",
            "['channelGrouping', 'device_browser', 'device_deviceCategory', 'device_operatingSystem', 'geoNetwork_continent', 'geoNetwork_country', 'geoNetwork_subContinent', 'socialEngagementType', 'trafficSource_medium', 'trafficSource_source']\n"
          ],
          "name": "stdout"
        }
      ]
    },
    {
      "cell_type": "code",
      "metadata": {
        "id": "9TWGxuly-fd-",
        "colab_type": "code",
        "outputId": "b0e95fc0-7fa4-4fa4-ef19-30617eb74352",
        "colab": {
          "base_uri": "https://localhost:8080/",
          "height": 131
        }
      },
      "source": [
        "df_test.head(2)"
      ],
      "execution_count": 0,
      "outputs": [
        {
          "output_type": "execute_result",
          "data": {
            "text/html": [
              "<div>\n",
              "<style scoped>\n",
              "    .dataframe tbody tr th:only-of-type {\n",
              "        vertical-align: middle;\n",
              "    }\n",
              "\n",
              "    .dataframe tbody tr th {\n",
              "        vertical-align: top;\n",
              "    }\n",
              "\n",
              "    .dataframe thead th {\n",
              "        text-align: right;\n",
              "    }\n",
              "</style>\n",
              "<table border=\"1\" class=\"dataframe\">\n",
              "  <thead>\n",
              "    <tr style=\"text-align: right;\">\n",
              "      <th></th>\n",
              "      <th>channelGrouping</th>\n",
              "      <th>device_browser</th>\n",
              "      <th>device_deviceCategory</th>\n",
              "      <th>device_operatingSystem</th>\n",
              "      <th>fullVisitorId</th>\n",
              "      <th>geoNetwork_continent</th>\n",
              "      <th>geoNetwork_country</th>\n",
              "      <th>geoNetwork_subContinent</th>\n",
              "      <th>socialEngagementType</th>\n",
              "      <th>totals_hits</th>\n",
              "      <th>totals_newVisits</th>\n",
              "      <th>totals_pageviews</th>\n",
              "      <th>totals_visits</th>\n",
              "      <th>trafficSource_medium</th>\n",
              "      <th>trafficSource_source</th>\n",
              "      <th>visitId</th>\n",
              "      <th>visitNumber</th>\n",
              "      <th>year</th>\n",
              "      <th>month</th>\n",
              "      <th>day</th>\n",
              "      <th>sum_visits_per_day</th>\n",
              "      <th>mean_visits_per_day</th>\n",
              "      <th>sum_hits_per_day</th>\n",
              "      <th>mean_hits_per_day</th>\n",
              "      <th>sum_pageviews_per_day</th>\n",
              "      <th>mean_pageviews_per_day</th>\n",
              "      <th>sum_newvisits_per_day</th>\n",
              "      <th>mean_newvists_per_day</th>\n",
              "    </tr>\n",
              "  </thead>\n",
              "  <tbody>\n",
              "    <tr>\n",
              "      <th>258890</th>\n",
              "      <td>4</td>\n",
              "      <td>25</td>\n",
              "      <td>1</td>\n",
              "      <td>1</td>\n",
              "      <td>1995526696366</td>\n",
              "      <td>3</td>\n",
              "      <td>185</td>\n",
              "      <td>6</td>\n",
              "      <td>0</td>\n",
              "      <td>5</td>\n",
              "      <td>1</td>\n",
              "      <td>4</td>\n",
              "      <td>1</td>\n",
              "      <td>5</td>\n",
              "      <td>62</td>\n",
              "      <td>1536654515</td>\n",
              "      <td>1</td>\n",
              "      <td>2018</td>\n",
              "      <td>9</td>\n",
              "      <td>11</td>\n",
              "      <td>1</td>\n",
              "      <td>1</td>\n",
              "      <td>5</td>\n",
              "      <td>1</td>\n",
              "      <td>4</td>\n",
              "      <td>4.0</td>\n",
              "      <td>1</td>\n",
              "      <td>1.0</td>\n",
              "    </tr>\n",
              "    <tr>\n",
              "      <th>263903</th>\n",
              "      <td>2</td>\n",
              "      <td>25</td>\n",
              "      <td>0</td>\n",
              "      <td>18</td>\n",
              "      <td>16367580689231</td>\n",
              "      <td>2</td>\n",
              "      <td>35</td>\n",
              "      <td>12</td>\n",
              "      <td>0</td>\n",
              "      <td>2</td>\n",
              "      <td>1</td>\n",
              "      <td>2</td>\n",
              "      <td>1</td>\n",
              "      <td>0</td>\n",
              "      <td>0</td>\n",
              "      <td>1534170866</td>\n",
              "      <td>1</td>\n",
              "      <td>2018</td>\n",
              "      <td>8</td>\n",
              "      <td>13</td>\n",
              "      <td>1</td>\n",
              "      <td>1</td>\n",
              "      <td>2</td>\n",
              "      <td>1</td>\n",
              "      <td>2</td>\n",
              "      <td>2.0</td>\n",
              "      <td>1</td>\n",
              "      <td>1.0</td>\n",
              "    </tr>\n",
              "  </tbody>\n",
              "</table>\n",
              "</div>"
            ],
            "text/plain": [
              "        channelGrouping  ...  mean_newvists_per_day\n",
              "258890                4  ...                    1.0\n",
              "263903                2  ...                    1.0\n",
              "\n",
              "[2 rows x 28 columns]"
            ]
          },
          "metadata": {
            "tags": []
          },
          "execution_count": 36
        }
      ]
    },
    {
      "cell_type": "code",
      "metadata": {
        "id": "u1MsB8LQ-jd3",
        "colab_type": "code",
        "colab": {}
      },
      "source": [
        "df_test.drop(['fullVisitorId','visitId'],axis=1, inplace=True)"
      ],
      "execution_count": 0,
      "outputs": []
    },
    {
      "cell_type": "code",
      "metadata": {
        "id": "IzoC2KX8-oKK",
        "colab_type": "code",
        "outputId": "371e042c-f58d-4b44-d1de-f512d427a064",
        "colab": {
          "base_uri": "https://localhost:8080/",
          "height": 34
        }
      },
      "source": [
        "df_test.shape"
      ],
      "execution_count": 0,
      "outputs": [
        {
          "output_type": "execute_result",
          "data": {
            "text/plain": [
              "(401589, 26)"
            ]
          },
          "metadata": {
            "tags": []
          },
          "execution_count": 38
        }
      ]
    },
    {
      "cell_type": "code",
      "metadata": {
        "id": "2Ia9DIyW-rio",
        "colab_type": "code",
        "colab": {}
      },
      "source": [
        "df_test=feature_engineering_numercal(df_test)"
      ],
      "execution_count": 0,
      "outputs": []
    },
    {
      "cell_type": "code",
      "metadata": {
        "id": "XalcyAz7-v77",
        "colab_type": "code",
        "outputId": "cb57b4b9-169f-4446-d7e4-294998932062",
        "colab": {
          "base_uri": "https://localhost:8080/",
          "height": 131
        }
      },
      "source": [
        "df_test.head(2)"
      ],
      "execution_count": 0,
      "outputs": [
        {
          "output_type": "execute_result",
          "data": {
            "text/html": [
              "<div>\n",
              "<style scoped>\n",
              "    .dataframe tbody tr th:only-of-type {\n",
              "        vertical-align: middle;\n",
              "    }\n",
              "\n",
              "    .dataframe tbody tr th {\n",
              "        vertical-align: top;\n",
              "    }\n",
              "\n",
              "    .dataframe thead th {\n",
              "        text-align: right;\n",
              "    }\n",
              "</style>\n",
              "<table border=\"1\" class=\"dataframe\">\n",
              "  <thead>\n",
              "    <tr style=\"text-align: right;\">\n",
              "      <th></th>\n",
              "      <th>channelGrouping</th>\n",
              "      <th>device_browser</th>\n",
              "      <th>device_deviceCategory</th>\n",
              "      <th>device_operatingSystem</th>\n",
              "      <th>geoNetwork_continent</th>\n",
              "      <th>geoNetwork_country</th>\n",
              "      <th>geoNetwork_subContinent</th>\n",
              "      <th>socialEngagementType</th>\n",
              "      <th>totals_hits</th>\n",
              "      <th>totals_newVisits</th>\n",
              "      <th>totals_pageviews</th>\n",
              "      <th>totals_visits</th>\n",
              "      <th>trafficSource_medium</th>\n",
              "      <th>trafficSource_source</th>\n",
              "      <th>visitNumber</th>\n",
              "      <th>year</th>\n",
              "      <th>month</th>\n",
              "      <th>day</th>\n",
              "      <th>sum_visits_per_day</th>\n",
              "      <th>mean_visits_per_day</th>\n",
              "      <th>sum_hits_per_day</th>\n",
              "      <th>mean_hits_per_day</th>\n",
              "      <th>sum_pageviews_per_day</th>\n",
              "      <th>mean_pageviews_per_day</th>\n",
              "      <th>sum_newvisits_per_day</th>\n",
              "      <th>mean_newvists_per_day</th>\n",
              "    </tr>\n",
              "  </thead>\n",
              "  <tbody>\n",
              "    <tr>\n",
              "      <th>258890</th>\n",
              "      <td>4</td>\n",
              "      <td>25</td>\n",
              "      <td>1</td>\n",
              "      <td>1</td>\n",
              "      <td>3</td>\n",
              "      <td>185</td>\n",
              "      <td>6</td>\n",
              "      <td>0</td>\n",
              "      <td>0.0</td>\n",
              "      <td>0.0</td>\n",
              "      <td>0.0</td>\n",
              "      <td>0.0</td>\n",
              "      <td>5</td>\n",
              "      <td>62</td>\n",
              "      <td>0.0</td>\n",
              "      <td>2018</td>\n",
              "      <td>9</td>\n",
              "      <td>11</td>\n",
              "      <td>1</td>\n",
              "      <td>1</td>\n",
              "      <td>5</td>\n",
              "      <td>1</td>\n",
              "      <td>4</td>\n",
              "      <td>4.0</td>\n",
              "      <td>1</td>\n",
              "      <td>1.0</td>\n",
              "    </tr>\n",
              "    <tr>\n",
              "      <th>263903</th>\n",
              "      <td>2</td>\n",
              "      <td>25</td>\n",
              "      <td>0</td>\n",
              "      <td>18</td>\n",
              "      <td>2</td>\n",
              "      <td>35</td>\n",
              "      <td>12</td>\n",
              "      <td>0</td>\n",
              "      <td>-2.0</td>\n",
              "      <td>-2.0</td>\n",
              "      <td>-2.0</td>\n",
              "      <td>-2.0</td>\n",
              "      <td>0</td>\n",
              "      <td>0</td>\n",
              "      <td>-2.0</td>\n",
              "      <td>2018</td>\n",
              "      <td>8</td>\n",
              "      <td>13</td>\n",
              "      <td>1</td>\n",
              "      <td>1</td>\n",
              "      <td>2</td>\n",
              "      <td>1</td>\n",
              "      <td>2</td>\n",
              "      <td>2.0</td>\n",
              "      <td>1</td>\n",
              "      <td>1.0</td>\n",
              "    </tr>\n",
              "  </tbody>\n",
              "</table>\n",
              "</div>"
            ],
            "text/plain": [
              "        channelGrouping  ...  mean_newvists_per_day\n",
              "258890                4  ...                    1.0\n",
              "263903                2  ...                    1.0\n",
              "\n",
              "[2 rows x 26 columns]"
            ]
          },
          "metadata": {
            "tags": []
          },
          "execution_count": 40
        }
      ]
    },
    {
      "cell_type": "code",
      "metadata": {
        "id": "o8YDuwQV-zbq",
        "colab_type": "code",
        "outputId": "9234b5a3-17de-482e-e2ca-1aeee58e1f7f",
        "colab": {
          "base_uri": "https://localhost:8080/",
          "height": 34
        }
      },
      "source": [
        "df_test.shape"
      ],
      "execution_count": 0,
      "outputs": [
        {
          "output_type": "execute_result",
          "data": {
            "text/plain": [
              "(401589, 26)"
            ]
          },
          "metadata": {
            "tags": []
          },
          "execution_count": 41
        }
      ]
    },
    {
      "cell_type": "code",
      "metadata": {
        "id": "k_HuVqBwAFmR",
        "colab_type": "code",
        "colab": {}
      },
      "source": [
        "df_test.to_csv(r'/content/drive/My Drive/gstore_preprocessed_data_test.csv', index = None, header=True)"
      ],
      "execution_count": 0,
      "outputs": []
    },
    {
      "cell_type": "code",
      "metadata": {
        "id": "zWa_GmIn0k84",
        "colab_type": "code",
        "colab": {}
      },
      "source": [
        "df_train=pd.read_csv('/content/drive/My Drive/gstore_preprocessed_data_train.csv')\n",
        "X_test=pd.read_csv('/content/drive/My Drive/gstore_preprocessed_data_test.csv')"
      ],
      "execution_count": 0,
      "outputs": []
    },
    {
      "cell_type": "code",
      "metadata": {
        "id": "A1-byazVi22_",
        "colab_type": "code",
        "outputId": "a633154b-c2b7-47a9-e96d-ed7708426e78",
        "colab": {
          "base_uri": "https://localhost:8080/",
          "height": 34
        }
      },
      "source": [
        "X_test.shape"
      ],
      "execution_count": 0,
      "outputs": [
        {
          "output_type": "execute_result",
          "data": {
            "text/plain": [
              "(401589, 26)"
            ]
          },
          "metadata": {
            "tags": []
          },
          "execution_count": 5
        }
      ]
    },
    {
      "cell_type": "code",
      "metadata": {
        "id": "ylo9BNClxiiq",
        "colab_type": "code",
        "colab": {}
      },
      "source": [
        "Y_train_reg = df_train.pop('totals_transactionRevenue')\n",
        "#Y_train_cls = (Y_train_reg.fillna(0) > 0).astype(np.uint8)\n",
        "X_train = df_train"
      ],
      "execution_count": 0,
      "outputs": []
    },
    {
      "cell_type": "markdown",
      "metadata": {
        "id": "lsHN9GK35Rt7",
        "colab_type": "text"
      },
      "source": [
        "#Clustering"
      ]
    },
    {
      "cell_type": "code",
      "metadata": {
        "id": "4v-6_nJfHQ2a",
        "colab_type": "code",
        "colab": {}
      },
      "source": [
        "from sklearn import cluster\n",
        "colors = np.array(['orange', 'blue', 'lime', 'blue', 'khaki', 'pink', 'green', 'purple'])\n",
        "\n",
        "# points - a 2D array of (x,y) coordinates of data points\n",
        "# labels - an array of numeric labels in the interval [0..k-1], one for each point\n",
        "# centers - a 2D array of (x, y) coordinates of cluster centers\n",
        "# title - title of the plot\n",
        "\n",
        "\n",
        "def clustering_scatterplot(points, labels, centers, title):\n",
        "    \n",
        "    \n",
        "    n_clusters = np.unique(labels).size\n",
        "    for i in range(n_clusters):\n",
        "        h = plt.scatter(points[labels==i,0],\n",
        "                        points[labels==i,1], \n",
        "                        c=colors[i%colors.size],\n",
        "                        label = 'cluster '+str(i))\n",
        "\n",
        "    # plot the centers of the clusters\n",
        "    if centers is not None:\n",
        "        plt.scatter(centers[:,0], centers[:,1], c='r', marker='*', s=500)\n",
        "\n",
        "    _ = plt.title(title)\n",
        "    _ = plt.legend()\n",
        "    _ = plt.xlabel('x')\n",
        "    _ = plt.ylabel('y')"
      ],
      "execution_count": 0,
      "outputs": []
    },
    {
      "cell_type": "code",
      "metadata": {
        "id": "z4Il2E1cMZK8",
        "colab_type": "code",
        "colab": {}
      },
      "source": [
        "X_train_cluster=X_train[0:2000]"
      ],
      "execution_count": 0,
      "outputs": []
    },
    {
      "cell_type": "code",
      "metadata": {
        "id": "c43pkqypIl9u",
        "colab_type": "code",
        "colab": {}
      },
      "source": [
        "#BOW\n",
        "Sum_of_squared_distances_bow = []\n",
        "K = range(3,15)\n",
        "for k in K:\n",
        "    km = cluster.KMeans(n_clusters=k, n_init=10, max_iter=300).fit(X_train_cluster)\n",
        "    #km = km.fit(X_train)\n",
        "    Sum_of_squared_distances_bow.append(km.inertia_)"
      ],
      "execution_count": 0,
      "outputs": []
    },
    {
      "cell_type": "code",
      "metadata": {
        "id": "gHO_RceTIuVt",
        "colab_type": "code",
        "outputId": "7da8edd7-b42a-4677-e12e-9a8a14251123",
        "colab": {
          "base_uri": "https://localhost:8080/",
          "height": 295
        }
      },
      "source": [
        "plt.plot(K, Sum_of_squared_distances_bow, 'bx-')\n",
        "plt.xlabel('k')\n",
        "plt.ylabel('Sum_of_squared_distances')\n",
        "plt.title('Elbow Method For Optimal k')\n",
        "plt.show()"
      ],
      "execution_count": 0,
      "outputs": [
        {
          "output_type": "display_data",
          "data": {
            "image/png": "[encoded data removed]",
            "text/plain": [
              "<Figure size 432x288 with 1 Axes>"
            ]
          },
          "metadata": {
            "tags": [],
            "needs_background": "light"
          }
        }
      ]
    },
    {
      "cell_type": "code",
      "metadata": {
        "id": "AGCmnMTeNmt2",
        "colab_type": "code",
        "colab": {}
      },
      "source": [
        "k=6\n",
        "clustered_data_sklearn = cluster.KMeans(n_clusters=k, n_init=10, max_iter=300).fit(X_train_cluster)"
      ],
      "execution_count": 0,
      "outputs": []
    },
    {
      "cell_type": "code",
      "metadata": {
        "id": "LKfFojUuHo-J",
        "colab_type": "code",
        "colab": {}
      },
      "source": [
        "data_and_centers = np.r_[X_train_cluster,clustered_data_sklearn.cluster_centers_]"
      ],
      "execution_count": 0,
      "outputs": []
    },
    {
      "cell_type": "code",
      "metadata": {
        "id": "VrXgiohUHsiP",
        "colab_type": "code",
        "outputId": "12ece972-c8dd-4133-bbfc-53bcf1a839e2",
        "colab": {
          "base_uri": "https://localhost:8080/",
          "height": 34
        }
      },
      "source": [
        "from sklearn import manifold\n",
        "XYcoordinates = manifold.MDS(n_components=2).fit_transform(data_and_centers)\n",
        "print(\"transformation complete\")"
      ],
      "execution_count": 0,
      "outputs": [
        {
          "output_type": "stream",
          "text": [
            "transformation complete\n"
          ],
          "name": "stdout"
        }
      ]
    },
    {
      "cell_type": "code",
      "metadata": {
        "id": "b4m_8kmbHsRe",
        "colab_type": "code",
        "outputId": "d04cb609-56a2-4c61-e85a-7b04be99b406",
        "colab": {
          "base_uri": "https://localhost:8080/",
          "height": 295
        }
      },
      "source": [
        "clustering_scatterplot(points=XYcoordinates[:-k,:], \n",
        "                       labels=clustered_data_sklearn.labels_, \n",
        "                       centers=XYcoordinates[-k:,:], \n",
        "                       title='MDS')"
      ],
      "execution_count": 0,
      "outputs": [
        {
          "output_type": "display_data",
          "data": {
            "image/png": "[encoded data removed]",
            "text/plain": [
              "<Figure size 432x288 with 1 Axes>"
            ]
          },
          "metadata": {
            "tags": [],
            "needs_background": "light"
          }
        }
      ]
    },
    {
      "cell_type": "markdown",
      "metadata": {
        "id": "0mkJXYwvuzQT",
        "colab_type": "text"
      },
      "source": [
        "We have applied K-means clustering technique to visualize the dataset.We applied elbow method to get the best value of k and we got k=6 as the best k value where K means number of clusters.To visualize it, we have converted it into 2-dimensional data using Manifold dimensionality reduction technique.A you can see that many points are far from their clusters so we can analyse that the data is not so smooth.We have to apply smome techniques like Robust Scalar to improve the scaling of numerical data.\n",
        "*Note- Due to hardware limitation we are able to do clustering of only 2000 data points.So observation might be not that accurate"
      ]
    },
    {
      "cell_type": "code",
      "metadata": {
        "id": "kamHhAHYy3dE",
        "colab_type": "code",
        "outputId": "80d5309d-1f4d-419c-9dbc-fddf5d42c38d",
        "colab": {
          "base_uri": "https://localhost:8080/",
          "height": 85
        }
      },
      "source": [
        "train_new=pd.read_csv('/content/drive/My Drive/train_google_2.csv',dtype={'fullVisitorId': 'str'})\n",
        "test_new=pd.read_csv('/content/drive/My Drive/test_google_2.csv',dtype={'fullVisitorId': 'str'})\n",
        "train_id = train_new['fullVisitorId']\n",
        "test_id = test_new['fullVisitorId']"
      ],
      "execution_count": 0,
      "outputs": [
        {
          "output_type": "stream",
          "text": [
            "/usr/local/lib/python3.6/dist-packages/IPython/core/interactiveshell.py:2718: DtypeWarning:\n",
            "\n",
            "Columns (50) have mixed types.Specify dtype option on import or set low_memory=False.\n",
            "\n"
          ],
          "name": "stderr"
        }
      ]
    },
    {
      "cell_type": "markdown",
      "metadata": {
        "id": "2dHIlkaa5XN3",
        "colab_type": "text"
      },
      "source": [
        "#LGBM"
      ]
    },
    {
      "cell_type": "code",
      "metadata": {
        "id": "g7pbBI7Qx4wo",
        "colab_type": "code",
        "outputId": "fd59c803-4996-4c5e-afcb-c9189b36ba3f",
        "colab": {
          "base_uri": "https://localhost:8080/",
          "height": 629
        }
      },
      "source": [
        "from sklearn.model_selection import StratifiedKFold, GroupKFold\n",
        "from sklearn.metrics import roc_auc_score\n",
        "import lightgbm as lgb\n",
        "params={'learning_rate': 0.01,\n",
        "        'objective':'regression',\n",
        "        'metric':'rmse',\n",
        "        'num_leaves': 31,\n",
        "        'verbose': 1,\n",
        "        'random_state':42,\n",
        "        'bagging_fraction': 0.6,\n",
        "        'feature_fraction': 0.6\n",
        "       }\n",
        "\n",
        "folds = GroupKFold(n_splits=5)\n",
        "\n",
        "oof_preds = np.zeros(X_train.shape[0])\n",
        "sub_preds = np.zeros(X_test.shape[0])\n",
        "for fold_, (trn_, val_) in enumerate(folds.split(X_train, Y_train_reg, groups=train_id)):\n",
        "    trn_x, trn_y = X_train.iloc[trn_], Y_train_reg.iloc[trn_]\n",
        "    val_x, val_y = X_train.iloc[val_], Y_train_reg.iloc[val_]\n",
        "    \n",
        "    reg = lgb.LGBMRegressor(**params, n_estimators=3000)\n",
        "    reg.fit(trn_x, trn_y, eval_set=[(val_x, val_y)], early_stopping_rounds=50, verbose=500)\n",
        "    \n",
        "    oof_preds[val_] = reg.predict(val_x, num_iteration=reg.best_iteration_)\n",
        "    sub_preds += reg.predict(X_test, num_iteration=reg.best_iteration_) / folds.n_splits\n",
        "\n",
        "pred = sub_preds"
      ],
      "execution_count": 0,
      "outputs": [
        {
          "output_type": "stream",
          "text": [
            "Training until validation scores don't improve for 50 rounds.\n",
            "[500]\tvalid_0's rmse: 1.50796\n",
            "[1000]\tvalid_0's rmse: 1.50046\n",
            "[1500]\tvalid_0's rmse: 1.49736\n",
            "Early stopping, best iteration is:\n",
            "[1824]\tvalid_0's rmse: 1.49592\n",
            "Training until validation scores don't improve for 50 rounds.\n",
            "[500]\tvalid_0's rmse: 1.48383\n",
            "[1000]\tvalid_0's rmse: 1.47631\n",
            "[1500]\tvalid_0's rmse: 1.47297\n",
            "[2000]\tvalid_0's rmse: 1.47071\n",
            "[2500]\tvalid_0's rmse: 1.46926\n",
            "Early stopping, best iteration is:\n",
            "[2462]\tvalid_0's rmse: 1.46924\n",
            "Training until validation scores don't improve for 50 rounds.\n",
            "[500]\tvalid_0's rmse: 1.47911\n",
            "[1000]\tvalid_0's rmse: 1.47172\n",
            "[1500]\tvalid_0's rmse: 1.46774\n",
            "[2000]\tvalid_0's rmse: 1.46601\n",
            "Early stopping, best iteration is:\n",
            "[2309]\tvalid_0's rmse: 1.46541\n",
            "Training until validation scores don't improve for 50 rounds.\n",
            "[500]\tvalid_0's rmse: 1.47743\n",
            "[1000]\tvalid_0's rmse: 1.46932\n",
            "[1500]\tvalid_0's rmse: 1.46545\n",
            "[2000]\tvalid_0's rmse: 1.46291\n",
            "[2500]\tvalid_0's rmse: 1.46149\n",
            "Early stopping, best iteration is:\n",
            "[2579]\tvalid_0's rmse: 1.4613\n",
            "Training until validation scores don't improve for 50 rounds.\n",
            "[500]\tvalid_0's rmse: 1.4829\n",
            "[1000]\tvalid_0's rmse: 1.475\n",
            "[1500]\tvalid_0's rmse: 1.47162\n",
            "[2000]\tvalid_0's rmse: 1.46954\n",
            "Early stopping, best iteration is:\n",
            "[2349]\tvalid_0's rmse: 1.46866\n"
          ],
          "name": "stdout"
        }
      ]
    },
    {
      "cell_type": "code",
      "metadata": {
        "id": "yvHm20bqEaN7",
        "colab_type": "code",
        "colab": {}
      },
      "source": [
        "import pickle \n",
        "filename = '/content/drive/My Drive/model/google_model1.pkl'\n",
        "saved_model = pickle.dump(LGBM_grid,open('/content/drive/My Drive/google_model1.pkl','wb')) "
      ],
      "execution_count": 0,
      "outputs": []
    },
    {
      "cell_type": "code",
      "metadata": {
        "id": "AQOCl9NLyszV",
        "colab_type": "code",
        "outputId": "dd54504a-3bfc-4186-b11a-a8c653fb3633",
        "colab": {
          "base_uri": "https://localhost:8080/",
          "height": 669
        }
      },
      "source": [
        "submission = pd.DataFrame({'fullVisitorId':test_id, 'PredictedLogRevenue':pred})\n",
        "\n",
        "submission[\"PredictedLogRevenue\"] = np.expm1(submission[\"PredictedLogRevenue\"])\n",
        "submission[\"PredictedLogRevenue\"] = submission[\"PredictedLogRevenue\"].apply(lambda x : 0.0 if x < 0 else x)\n",
        "submission[\"PredictedLogRevenue\"] = submission[\"PredictedLogRevenue\"].fillna(0.0)\n",
        "\n",
        "submission_sum = submission[['fullVisitorId', 'PredictedLogRevenue']].groupby('fullVisitorId').sum().reset_index()\n",
        "submission_sum[\"PredictedLogRevenue\"] = np.log1p(submission_sum[\"PredictedLogRevenue\"])\n",
        "submission_sum.to_csv(\"/content/drive/My Drive/submission.csv\", index=False)\n",
        "submission_sum.head(20)"
      ],
      "execution_count": 0,
      "outputs": [
        {
          "output_type": "execute_result",
          "data": {
            "text/html": [
              "<div>\n",
              "<style scoped>\n",
              "    .dataframe tbody tr th:only-of-type {\n",
              "        vertical-align: middle;\n",
              "    }\n",
              "\n",
              "    .dataframe tbody tr th {\n",
              "        vertical-align: top;\n",
              "    }\n",
              "\n",
              "    .dataframe thead th {\n",
              "        text-align: right;\n",
              "    }\n",
              "</style>\n",
              "<table border=\"1\" class=\"dataframe\">\n",
              "  <thead>\n",
              "    <tr style=\"text-align: right;\">\n",
              "      <th></th>\n",
              "      <th>fullVisitorId</th>\n",
              "      <th>PredictedLogRevenue</th>\n",
              "    </tr>\n",
              "  </thead>\n",
              "  <tbody>\n",
              "    <tr>\n",
              "      <th>0</th>\n",
              "      <td>0000018966949534117</td>\n",
              "      <td>0.000003</td>\n",
              "    </tr>\n",
              "    <tr>\n",
              "      <th>1</th>\n",
              "      <td>0000039738481224681</td>\n",
              "      <td>0.000000</td>\n",
              "    </tr>\n",
              "    <tr>\n",
              "      <th>2</th>\n",
              "      <td>0000073585230191399</td>\n",
              "      <td>0.005182</td>\n",
              "    </tr>\n",
              "    <tr>\n",
              "      <th>3</th>\n",
              "      <td>0000087588448856385</td>\n",
              "      <td>0.000000</td>\n",
              "    </tr>\n",
              "    <tr>\n",
              "      <th>4</th>\n",
              "      <td>0000149787903119437</td>\n",
              "      <td>0.000000</td>\n",
              "    </tr>\n",
              "    <tr>\n",
              "      <th>5</th>\n",
              "      <td>0000196310838896290</td>\n",
              "      <td>0.000000</td>\n",
              "    </tr>\n",
              "    <tr>\n",
              "      <th>6</th>\n",
              "      <td>00001995526696366</td>\n",
              "      <td>0.000000</td>\n",
              "    </tr>\n",
              "    <tr>\n",
              "      <th>7</th>\n",
              "      <td>0000255704530917106</td>\n",
              "      <td>0.000152</td>\n",
              "    </tr>\n",
              "    <tr>\n",
              "      <th>8</th>\n",
              "      <td>0000268499301061358</td>\n",
              "      <td>0.000000</td>\n",
              "    </tr>\n",
              "    <tr>\n",
              "      <th>9</th>\n",
              "      <td>0000276747989270229</td>\n",
              "      <td>0.000000</td>\n",
              "    </tr>\n",
              "    <tr>\n",
              "      <th>10</th>\n",
              "      <td>0000307692406594052</td>\n",
              "      <td>0.000000</td>\n",
              "    </tr>\n",
              "    <tr>\n",
              "      <th>11</th>\n",
              "      <td>0000336914980220518</td>\n",
              "      <td>0.000000</td>\n",
              "    </tr>\n",
              "    <tr>\n",
              "      <th>12</th>\n",
              "      <td>0000441374037493717</td>\n",
              "      <td>0.000000</td>\n",
              "    </tr>\n",
              "    <tr>\n",
              "      <th>13</th>\n",
              "      <td>0000450284137157873</td>\n",
              "      <td>0.487592</td>\n",
              "    </tr>\n",
              "    <tr>\n",
              "      <th>14</th>\n",
              "      <td>0000465852268847074</td>\n",
              "      <td>0.016510</td>\n",
              "    </tr>\n",
              "    <tr>\n",
              "      <th>15</th>\n",
              "      <td>0000507436339585432</td>\n",
              "      <td>0.000000</td>\n",
              "    </tr>\n",
              "    <tr>\n",
              "      <th>16</th>\n",
              "      <td>0000507687995373852</td>\n",
              "      <td>0.000000</td>\n",
              "    </tr>\n",
              "    <tr>\n",
              "      <th>17</th>\n",
              "      <td>000052414006177882</td>\n",
              "      <td>0.000000</td>\n",
              "    </tr>\n",
              "    <tr>\n",
              "      <th>18</th>\n",
              "      <td>0000528281082051132</td>\n",
              "      <td>0.000000</td>\n",
              "    </tr>\n",
              "    <tr>\n",
              "      <th>19</th>\n",
              "      <td>0000545498494146189</td>\n",
              "      <td>0.000000</td>\n",
              "    </tr>\n",
              "  </tbody>\n",
              "</table>\n",
              "</div>"
            ],
            "text/plain": [
              "          fullVisitorId  PredictedLogRevenue\n",
              "0   0000018966949534117             0.000003\n",
              "1   0000039738481224681             0.000000\n",
              "2   0000073585230191399             0.005182\n",
              "3   0000087588448856385             0.000000\n",
              "4   0000149787903119437             0.000000\n",
              "5   0000196310838896290             0.000000\n",
              "6     00001995526696366             0.000000\n",
              "7   0000255704530917106             0.000152\n",
              "8   0000268499301061358             0.000000\n",
              "9   0000276747989270229             0.000000\n",
              "10  0000307692406594052             0.000000\n",
              "11  0000336914980220518             0.000000\n",
              "12  0000441374037493717             0.000000\n",
              "13  0000450284137157873             0.487592\n",
              "14  0000465852268847074             0.016510\n",
              "15  0000507436339585432             0.000000\n",
              "16  0000507687995373852             0.000000\n",
              "17   000052414006177882             0.000000\n",
              "18  0000528281082051132             0.000000\n",
              "19  0000545498494146189             0.000000"
            ]
          },
          "metadata": {
            "tags": []
          },
          "execution_count": 145
        }
      ]
    },
    {
      "cell_type": "markdown",
      "metadata": {
        "id": "aGeypNIcfELw",
        "colab_type": "text"
      },
      "source": [
        "#XGBRegressor"
      ]
    },
    {
      "cell_type": "code",
      "metadata": {
        "id": "oSSoiJENXCPe",
        "colab_type": "code",
        "outputId": "7a3e5bda-69cd-4404-e253-d6049cb0930d",
        "colab": {
          "base_uri": "https://localhost:8080/",
          "height": 51
        }
      },
      "source": [
        "from sklearn.model_selection import GridSearchCV\n",
        "import xgboost as xgb\n",
        "xgb1 = xgb.XGBRegressor()\n",
        "parameters = {'nthread':[4], #when use hyperthread, xgboost may become slower\n",
        "              'objective':['reg:linear'],\n",
        "              'learning_rate': [.03, 0.05, .07], #so called `eta` value\n",
        "              'max_depth': [5, 6, 7],\n",
        "              'min_child_weight': [4],\n",
        "              'silent': [1],\n",
        "              'subsample': [0.7],\n",
        "              'colsample_bytree': [0.7],\n",
        "              'n_estimators': [100,200,500]}\n",
        "\n",
        "xgb_grid = GridSearchCV(xgb1,parameters,cv = 2,verbose=True)\n",
        "xgb_grid.fit(X_train,Y_train_reg)"
      ],
      "execution_count": 0,
      "outputs": [
        {
          "output_type": "stream",
          "text": [
            "Fitting 2 folds for each of 27 candidates, totalling 54 fits\n"
          ],
          "name": "stdout"
        },
        {
          "output_type": "stream",
          "text": [
            "[Parallel(n_jobs=1)]: Using backend SequentialBackend with 1 concurrent workers.\n"
          ],
          "name": "stderr"
        }
      ]
    },
    {
      "cell_type": "code",
      "metadata": {
        "id": "oDj3_m6LdNTj",
        "colab_type": "code",
        "outputId": "7a8870c0-9022-4630-f98e-99cdf661c850",
        "colab": {
          "base_uri": "https://localhost:8080/",
          "height": 136
        }
      },
      "source": [
        "xgb_best = xgb.XGBRegressor(colsample_bytree= 0.7,learning_rate= 0.03,max_depth= 5,min_child_weight= 4,n_estimators= 500,nthread= 4,silent= 1, subsample =0.7)\n",
        "xgb_best.fit(X_train,Y_train_reg)"
      ],
      "execution_count": 0,
      "outputs": [
        {
          "output_type": "execute_result",
          "data": {
            "text/plain": [
              "XGBRegressor(base_score=0.5, booster='gbtree', colsample_bylevel=1,\n",
              "             colsample_bynode=1, colsample_bytree=0.7, gamma=0,\n",
              "             importance_type='gain', learning_rate=0.03, max_delta_step=0,\n",
              "             max_depth=5, min_child_weight=4, missing=None, n_estimators=500,\n",
              "             n_jobs=1, nthread=4, objective='reg:linear', random_state=0,\n",
              "             reg_alpha=0, reg_lambda=1, scale_pos_weight=1, seed=None, silent=1,\n",
              "             subsample=0.7, verbosity=1)"
            ]
          },
          "metadata": {
            "tags": []
          },
          "execution_count": 49
        }
      ]
    },
    {
      "cell_type": "code",
      "metadata": {
        "id": "X26J5Dk-hxnk",
        "colab_type": "code",
        "colab": {}
      },
      "source": [
        "pred_xgb=xgb_best.predict(X_test)"
      ],
      "execution_count": 0,
      "outputs": []
    },
    {
      "cell_type": "code",
      "metadata": {
        "id": "hfriqyG0bhWU",
        "colab_type": "code",
        "outputId": "25533d98-abea-43a1-dfdb-28240a6d910c",
        "colab": {
          "base_uri": "https://localhost:8080/",
          "height": 669
        }
      },
      "source": [
        "submission = pd.DataFrame({'fullVisitorId':test_id, 'PredictedLogRevenue':pred_xgb})\n",
        "\n",
        "submission[\"PredictedLogRevenue\"] = np.expm1(submission[\"PredictedLogRevenue\"])\n",
        "submission[\"PredictedLogRevenue\"] = submission[\"PredictedLogRevenue\"].apply(lambda x : 0.0 if x < 0 else x)\n",
        "submission[\"PredictedLogRevenue\"] = submission[\"PredictedLogRevenue\"].fillna(0.0)\n",
        "\n",
        "submission_sum = submission[['fullVisitorId', 'PredictedLogRevenue']].groupby('fullVisitorId').sum().reset_index()\n",
        "submission_sum[\"PredictedLogRevenue\"] = np.log1p(submission_sum[\"PredictedLogRevenue\"])\n",
        "submission_sum.to_csv(\"/content/drive/My Drive/gsubmission_xgb.csv\", index=False)\n",
        "submission_sum.head(20)"
      ],
      "execution_count": 0,
      "outputs": [
        {
          "output_type": "execute_result",
          "data": {
            "text/html": [
              "<div>\n",
              "<style scoped>\n",
              "    .dataframe tbody tr th:only-of-type {\n",
              "        vertical-align: middle;\n",
              "    }\n",
              "\n",
              "    .dataframe tbody tr th {\n",
              "        vertical-align: top;\n",
              "    }\n",
              "\n",
              "    .dataframe thead th {\n",
              "        text-align: right;\n",
              "    }\n",
              "</style>\n",
              "<table border=\"1\" class=\"dataframe\">\n",
              "  <thead>\n",
              "    <tr style=\"text-align: right;\">\n",
              "      <th></th>\n",
              "      <th>fullVisitorId</th>\n",
              "      <th>PredictedLogRevenue</th>\n",
              "    </tr>\n",
              "  </thead>\n",
              "  <tbody>\n",
              "    <tr>\n",
              "      <th>0</th>\n",
              "      <td>0000018966949534117</td>\n",
              "      <td>0.003535</td>\n",
              "    </tr>\n",
              "    <tr>\n",
              "      <th>1</th>\n",
              "      <td>0000039738481224681</td>\n",
              "      <td>0.000000</td>\n",
              "    </tr>\n",
              "    <tr>\n",
              "      <th>2</th>\n",
              "      <td>0000073585230191399</td>\n",
              "      <td>0.010272</td>\n",
              "    </tr>\n",
              "    <tr>\n",
              "      <th>3</th>\n",
              "      <td>0000087588448856385</td>\n",
              "      <td>0.002215</td>\n",
              "    </tr>\n",
              "    <tr>\n",
              "      <th>4</th>\n",
              "      <td>0000149787903119437</td>\n",
              "      <td>0.003911</td>\n",
              "    </tr>\n",
              "    <tr>\n",
              "      <th>5</th>\n",
              "      <td>0000196310838896290</td>\n",
              "      <td>0.002708</td>\n",
              "    </tr>\n",
              "    <tr>\n",
              "      <th>6</th>\n",
              "      <td>00001995526696366</td>\n",
              "      <td>0.000000</td>\n",
              "    </tr>\n",
              "    <tr>\n",
              "      <th>7</th>\n",
              "      <td>0000255704530917106</td>\n",
              "      <td>0.000000</td>\n",
              "    </tr>\n",
              "    <tr>\n",
              "      <th>8</th>\n",
              "      <td>0000268499301061358</td>\n",
              "      <td>0.001177</td>\n",
              "    </tr>\n",
              "    <tr>\n",
              "      <th>9</th>\n",
              "      <td>0000276747989270229</td>\n",
              "      <td>0.000062</td>\n",
              "    </tr>\n",
              "    <tr>\n",
              "      <th>10</th>\n",
              "      <td>0000307692406594052</td>\n",
              "      <td>0.001490</td>\n",
              "    </tr>\n",
              "    <tr>\n",
              "      <th>11</th>\n",
              "      <td>0000336914980220518</td>\n",
              "      <td>0.000152</td>\n",
              "    </tr>\n",
              "    <tr>\n",
              "      <th>12</th>\n",
              "      <td>0000441374037493717</td>\n",
              "      <td>0.001370</td>\n",
              "    </tr>\n",
              "    <tr>\n",
              "      <th>13</th>\n",
              "      <td>0000450284137157873</td>\n",
              "      <td>0.430301</td>\n",
              "    </tr>\n",
              "    <tr>\n",
              "      <th>14</th>\n",
              "      <td>0000465852268847074</td>\n",
              "      <td>0.025764</td>\n",
              "    </tr>\n",
              "    <tr>\n",
              "      <th>15</th>\n",
              "      <td>0000507436339585432</td>\n",
              "      <td>0.001795</td>\n",
              "    </tr>\n",
              "    <tr>\n",
              "      <th>16</th>\n",
              "      <td>0000507687995373852</td>\n",
              "      <td>0.001370</td>\n",
              "    </tr>\n",
              "    <tr>\n",
              "      <th>17</th>\n",
              "      <td>000052414006177882</td>\n",
              "      <td>0.000875</td>\n",
              "    </tr>\n",
              "    <tr>\n",
              "      <th>18</th>\n",
              "      <td>0000528281082051132</td>\n",
              "      <td>0.003704</td>\n",
              "    </tr>\n",
              "    <tr>\n",
              "      <th>19</th>\n",
              "      <td>0000545498494146189</td>\n",
              "      <td>0.001429</td>\n",
              "    </tr>\n",
              "  </tbody>\n",
              "</table>\n",
              "</div>"
            ],
            "text/plain": [
              "          fullVisitorId  PredictedLogRevenue\n",
              "0   0000018966949534117             0.003535\n",
              "1   0000039738481224681             0.000000\n",
              "2   0000073585230191399             0.010272\n",
              "3   0000087588448856385             0.002215\n",
              "4   0000149787903119437             0.003911\n",
              "5   0000196310838896290             0.002708\n",
              "6     00001995526696366             0.000000\n",
              "7   0000255704530917106             0.000000\n",
              "8   0000268499301061358             0.001177\n",
              "9   0000276747989270229             0.000062\n",
              "10  0000307692406594052             0.001490\n",
              "11  0000336914980220518             0.000152\n",
              "12  0000441374037493717             0.001370\n",
              "13  0000450284137157873             0.430301\n",
              "14  0000465852268847074             0.025764\n",
              "15  0000507436339585432             0.001795\n",
              "16  0000507687995373852             0.001370\n",
              "17   000052414006177882             0.000875\n",
              "18  0000528281082051132             0.003704\n",
              "19  0000545498494146189             0.001429"
            ]
          },
          "metadata": {
            "tags": []
          },
          "execution_count": 61
        }
      ]
    },
    {
      "cell_type": "markdown",
      "metadata": {
        "id": "VLUA6HwbedL6",
        "colab_type": "text"
      },
      "source": [
        "#GradientBoostingRegressor"
      ]
    },
    {
      "cell_type": "code",
      "metadata": {
        "id": "MY1ZjeMU1uKB",
        "colab_type": "code",
        "outputId": "ef8231e8-92d6-4015-fe21-16136deafb7d",
        "colab": {
          "base_uri": "https://localhost:8080/",
          "height": 408
        }
      },
      "source": [
        " from sklearn.ensemble import GradientBoostingRegressor\n",
        " from sklearn.model_selection import GridSearchCV\n",
        " model_gbr = GradientBoostingRegressor()\n",
        "parameters = {\n",
        "                  \n",
        "                  'n_estimators' : [50,100,200,300,500,1000],\n",
        "                   \n",
        "                 }\n",
        "grid_gbr = GridSearchCV(estimator=model_gbr, param_grid = parameters, cv = 3)\n",
        "grid_gbr.fit(X_train_xgb,Y_train_xgb)"
      ],
      "execution_count": 0,
      "outputs": [
        {
          "output_type": "execute_result",
          "data": {
            "text/plain": [
              "GridSearchCV(cv=3, error_score=nan,\n",
              "             estimator=GradientBoostingRegressor(alpha=0.9, ccp_alpha=0.0,\n",
              "                                                 criterion='friedman_mse',\n",
              "                                                 init=None, learning_rate=0.1,\n",
              "                                                 loss='ls', max_depth=3,\n",
              "                                                 max_features=None,\n",
              "                                                 max_leaf_nodes=None,\n",
              "                                                 min_impurity_decrease=0.0,\n",
              "                                                 min_impurity_split=None,\n",
              "                                                 min_samples_leaf=1,\n",
              "                                                 min_samples_split=2,\n",
              "                                                 min_weight_fraction_leaf=0.0,\n",
              "                                                 n_estimators=100,\n",
              "                                                 n_iter_no_change=None,\n",
              "                                                 presort='deprecated',\n",
              "                                                 random_state=None,\n",
              "                                                 subsample=1.0, tol=0.0001,\n",
              "                                                 validation_fraction=0.1,\n",
              "                                                 verbose=0, warm_start=False),\n",
              "             iid='deprecated', n_jobs=None,\n",
              "             param_grid={'n_estimators': [50, 100, 200, 300, 500, 1000]},\n",
              "             pre_dispatch='2*n_jobs', refit=True, return_train_score=False,\n",
              "             scoring=None, verbose=0)"
            ]
          },
          "metadata": {
            "tags": []
          },
          "execution_count": 84
        }
      ]
    },
    {
      "cell_type": "code",
      "metadata": {
        "id": "OhKH3-MFm7ac",
        "colab_type": "code",
        "outputId": "19e79ace-1a78-4a47-8538-16fb3ca04ac5",
        "colab": {
          "base_uri": "https://localhost:8080/",
          "height": 51
        }
      },
      "source": [
        "print(grid_gbr.best_score_)\n",
        "print(grid_gbr.best_params_)"
      ],
      "execution_count": 0,
      "outputs": [
        {
          "output_type": "stream",
          "text": [
            "0.29247773272232325\n",
            "{'n_estimators': 200}\n"
          ],
          "name": "stdout"
        }
      ]
    },
    {
      "cell_type": "code",
      "metadata": {
        "id": "ofACp-Bj9XNR",
        "colab_type": "code",
        "outputId": "16bd1f55-4227-47c8-ec93-ffdfcbd15095",
        "colab": {
          "base_uri": "https://localhost:8080/",
          "height": 170
        }
      },
      "source": [
        "from sklearn.ensemble import GradientBoostingRegressor\n",
        " \n",
        "gbr_best = GradientBoostingRegressor(n_estimators= 200)\n",
        "gbr_best.fit(X_train,Y_train_reg)"
      ],
      "execution_count": 0,
      "outputs": [
        {
          "output_type": "execute_result",
          "data": {
            "text/plain": [
              "GradientBoostingRegressor(alpha=0.9, ccp_alpha=0.0, criterion='friedman_mse',\n",
              "                          init=None, learning_rate=0.1, loss='ls', max_depth=3,\n",
              "                          max_features=None, max_leaf_nodes=None,\n",
              "                          min_impurity_decrease=0.0, min_impurity_split=None,\n",
              "                          min_samples_leaf=1, min_samples_split=2,\n",
              "                          min_weight_fraction_leaf=0.0, n_estimators=200,\n",
              "                          n_iter_no_change=None, presort='deprecated',\n",
              "                          random_state=None, subsample=1.0, tol=0.0001,\n",
              "                          validation_fraction=0.1, verbose=0, warm_start=False)"
            ]
          },
          "metadata": {
            "tags": []
          },
          "execution_count": 7
        }
      ]
    },
    {
      "cell_type": "code",
      "metadata": {
        "id": "VluDoYmU9iMC",
        "colab_type": "code",
        "colab": {}
      },
      "source": [
        "pred_gbr=gbr_best.predict(X_test)"
      ],
      "execution_count": 0,
      "outputs": []
    },
    {
      "cell_type": "code",
      "metadata": {
        "id": "2GMROQZR9tSf",
        "colab_type": "code",
        "outputId": "6386972c-90a7-4d96-ecc4-44f24955f4e4",
        "colab": {
          "base_uri": "https://localhost:8080/",
          "height": 669
        }
      },
      "source": [
        "submission = pd.DataFrame({'fullVisitorId':test_id, 'PredictedLogRevenue':pred_gbr})\n",
        "\n",
        "submission[\"PredictedLogRevenue\"] = np.expm1(submission[\"PredictedLogRevenue\"])\n",
        "submission[\"PredictedLogRevenue\"] = submission[\"PredictedLogRevenue\"].apply(lambda x : 0.0 if x < 0 else x)\n",
        "submission[\"PredictedLogRevenue\"] = submission[\"PredictedLogRevenue\"].fillna(0.0)\n",
        "\n",
        "submission_sum = submission[['fullVisitorId', 'PredictedLogRevenue']].groupby('fullVisitorId').sum().reset_index()\n",
        "submission_sum[\"PredictedLogRevenue\"] = np.log1p(submission_sum[\"PredictedLogRevenue\"])\n",
        "submission_sum.to_csv(\"/content/drive/My Drive/gsubmission_gbr.csv\", index=False)\n",
        "submission_sum.head(20)"
      ],
      "execution_count": 0,
      "outputs": [
        {
          "output_type": "execute_result",
          "data": {
            "text/html": [
              "<div>\n",
              "<style scoped>\n",
              "    .dataframe tbody tr th:only-of-type {\n",
              "        vertical-align: middle;\n",
              "    }\n",
              "\n",
              "    .dataframe tbody tr th {\n",
              "        vertical-align: top;\n",
              "    }\n",
              "\n",
              "    .dataframe thead th {\n",
              "        text-align: right;\n",
              "    }\n",
              "</style>\n",
              "<table border=\"1\" class=\"dataframe\">\n",
              "  <thead>\n",
              "    <tr style=\"text-align: right;\">\n",
              "      <th></th>\n",
              "      <th>fullVisitorId</th>\n",
              "      <th>PredictedLogRevenue</th>\n",
              "    </tr>\n",
              "  </thead>\n",
              "  <tbody>\n",
              "    <tr>\n",
              "      <th>0</th>\n",
              "      <td>0000018966949534117</td>\n",
              "      <td>0.000000</td>\n",
              "    </tr>\n",
              "    <tr>\n",
              "      <th>1</th>\n",
              "      <td>0000039738481224681</td>\n",
              "      <td>0.000000</td>\n",
              "    </tr>\n",
              "    <tr>\n",
              "      <th>2</th>\n",
              "      <td>0000073585230191399</td>\n",
              "      <td>0.003470</td>\n",
              "    </tr>\n",
              "    <tr>\n",
              "      <th>3</th>\n",
              "      <td>0000087588448856385</td>\n",
              "      <td>0.003460</td>\n",
              "    </tr>\n",
              "    <tr>\n",
              "      <th>4</th>\n",
              "      <td>0000149787903119437</td>\n",
              "      <td>0.000000</td>\n",
              "    </tr>\n",
              "    <tr>\n",
              "      <th>5</th>\n",
              "      <td>0000196310838896290</td>\n",
              "      <td>0.000000</td>\n",
              "    </tr>\n",
              "    <tr>\n",
              "      <th>6</th>\n",
              "      <td>00001995526696366</td>\n",
              "      <td>0.000000</td>\n",
              "    </tr>\n",
              "    <tr>\n",
              "      <th>7</th>\n",
              "      <td>0000255704530917106</td>\n",
              "      <td>0.000000</td>\n",
              "    </tr>\n",
              "    <tr>\n",
              "      <th>8</th>\n",
              "      <td>0000268499301061358</td>\n",
              "      <td>0.002599</td>\n",
              "    </tr>\n",
              "    <tr>\n",
              "      <th>9</th>\n",
              "      <td>0000276747989270229</td>\n",
              "      <td>0.000000</td>\n",
              "    </tr>\n",
              "    <tr>\n",
              "      <th>10</th>\n",
              "      <td>0000307692406594052</td>\n",
              "      <td>0.000000</td>\n",
              "    </tr>\n",
              "    <tr>\n",
              "      <th>11</th>\n",
              "      <td>0000336914980220518</td>\n",
              "      <td>0.000000</td>\n",
              "    </tr>\n",
              "    <tr>\n",
              "      <th>12</th>\n",
              "      <td>0000441374037493717</td>\n",
              "      <td>0.000000</td>\n",
              "    </tr>\n",
              "    <tr>\n",
              "      <th>13</th>\n",
              "      <td>0000450284137157873</td>\n",
              "      <td>0.209940</td>\n",
              "    </tr>\n",
              "    <tr>\n",
              "      <th>14</th>\n",
              "      <td>0000465852268847074</td>\n",
              "      <td>0.000000</td>\n",
              "    </tr>\n",
              "    <tr>\n",
              "      <th>15</th>\n",
              "      <td>0000507436339585432</td>\n",
              "      <td>0.000000</td>\n",
              "    </tr>\n",
              "    <tr>\n",
              "      <th>16</th>\n",
              "      <td>0000507687995373852</td>\n",
              "      <td>0.000000</td>\n",
              "    </tr>\n",
              "    <tr>\n",
              "      <th>17</th>\n",
              "      <td>000052414006177882</td>\n",
              "      <td>0.000000</td>\n",
              "    </tr>\n",
              "    <tr>\n",
              "      <th>18</th>\n",
              "      <td>0000528281082051132</td>\n",
              "      <td>0.000000</td>\n",
              "    </tr>\n",
              "    <tr>\n",
              "      <th>19</th>\n",
              "      <td>0000545498494146189</td>\n",
              "      <td>0.000000</td>\n",
              "    </tr>\n",
              "  </tbody>\n",
              "</table>\n",
              "</div>"
            ],
            "text/plain": [
              "          fullVisitorId  PredictedLogRevenue\n",
              "0   0000018966949534117             0.000000\n",
              "1   0000039738481224681             0.000000\n",
              "2   0000073585230191399             0.003470\n",
              "3   0000087588448856385             0.003460\n",
              "4   0000149787903119437             0.000000\n",
              "5   0000196310838896290             0.000000\n",
              "6     00001995526696366             0.000000\n",
              "7   0000255704530917106             0.000000\n",
              "8   0000268499301061358             0.002599\n",
              "9   0000276747989270229             0.000000\n",
              "10  0000307692406594052             0.000000\n",
              "11  0000336914980220518             0.000000\n",
              "12  0000441374037493717             0.000000\n",
              "13  0000450284137157873             0.209940\n",
              "14  0000465852268847074             0.000000\n",
              "15  0000507436339585432             0.000000\n",
              "16  0000507687995373852             0.000000\n",
              "17   000052414006177882             0.000000\n",
              "18  0000528281082051132             0.000000\n",
              "19  0000545498494146189             0.000000"
            ]
          },
          "metadata": {
            "tags": []
          },
          "execution_count": 12
        }
      ]
    },
    {
      "cell_type": "markdown",
      "metadata": {
        "id": "LNOxmrxAexiH",
        "colab_type": "text"
      },
      "source": [
        "#ElasticNetRegressor"
      ]
    },
    {
      "cell_type": "code",
      "metadata": {
        "id": "9KN9kAo9Zrt4",
        "colab_type": "code",
        "outputId": "4a69adb4-6ba4-4240-e57e-17734082bdbd",
        "colab": {
          "base_uri": "https://localhost:8080/",
          "height": 527
        }
      },
      "source": [
        "from sklearn.linear_model import ElasticNet\n",
        "from sklearn.model_selection import GridSearchCV\n",
        "model_elastic = ElasticNet()\n",
        "parameters = {\n",
        "                  \n",
        "                  'alpha' : [10**-3,10**-2, 10**-1, 10**0,10**1,10**2, 10**3]\n",
        "                   \n",
        "                 }\n",
        "grid_elastic = GridSearchCV(estimator=model_elastic, param_grid = parameters, cv = 3)\n",
        "grid_elastic.fit(X_train_xgb,Y_train_xgb)"
      ],
      "execution_count": 0,
      "outputs": [
        {
          "output_type": "stream",
          "text": [
            "/usr/local/lib/python3.6/dist-packages/sklearn/linear_model/_coordinate_descent.py:476: ConvergenceWarning:\n",
            "\n",
            "Objective did not converge. You might want to increase the number of iterations. Duality gap: 29673.35711989127, tolerance: 63.93482623800147\n",
            "\n",
            "/usr/local/lib/python3.6/dist-packages/sklearn/linear_model/_coordinate_descent.py:476: ConvergenceWarning:\n",
            "\n",
            "Objective did not converge. You might want to increase the number of iterations. Duality gap: 21892.578716227436, tolerance: 65.93461409549762\n",
            "\n",
            "/usr/local/lib/python3.6/dist-packages/sklearn/linear_model/_coordinate_descent.py:476: ConvergenceWarning:\n",
            "\n",
            "Objective did not converge. You might want to increase the number of iterations. Duality gap: 74945.0371683978, tolerance: 66.20370917950497\n",
            "\n",
            "/usr/local/lib/python3.6/dist-packages/sklearn/linear_model/_coordinate_descent.py:476: ConvergenceWarning:\n",
            "\n",
            "Objective did not converge. You might want to increase the number of iterations. Duality gap: 65.42741909995675, tolerance: 63.93482623800147\n",
            "\n",
            "/usr/local/lib/python3.6/dist-packages/sklearn/linear_model/_coordinate_descent.py:476: ConvergenceWarning:\n",
            "\n",
            "Objective did not converge. You might want to increase the number of iterations. Duality gap: 55521.50126333884, tolerance: 98.03683979167499\n",
            "\n"
          ],
          "name": "stderr"
        },
        {
          "output_type": "execute_result",
          "data": {
            "text/plain": [
              "GridSearchCV(cv=3, error_score=nan,\n",
              "             estimator=ElasticNet(alpha=1.0, copy_X=True, fit_intercept=True,\n",
              "                                  l1_ratio=0.5, max_iter=1000, normalize=False,\n",
              "                                  positive=False, precompute=False,\n",
              "                                  random_state=None, selection='cyclic',\n",
              "                                  tol=0.0001, warm_start=False),\n",
              "             iid='deprecated', n_jobs=None,\n",
              "             param_grid={'alpha': [0.001, 0.01, 0.1, 1, 10, 100, 1000]},\n",
              "             pre_dispatch='2*n_jobs', refit=True, return_train_score=False,\n",
              "             scoring=None, verbose=0)"
            ]
          },
          "metadata": {
            "tags": []
          },
          "execution_count": 34
        }
      ]
    },
    {
      "cell_type": "code",
      "metadata": {
        "id": "7hqOrADubC4L",
        "colab_type": "code",
        "outputId": "b7ebbcd4-e0f5-46b3-c484-743bb1f6ff57",
        "colab": {
          "base_uri": "https://localhost:8080/",
          "height": 51
        }
      },
      "source": [
        "print(grid_elastic.best_score_)\n",
        "print(grid_elastic.best_params_)"
      ],
      "execution_count": 0,
      "outputs": [
        {
          "output_type": "stream",
          "text": [
            "0.15292771773443958\n",
            "{'alpha': 0.001}\n"
          ],
          "name": "stdout"
        }
      ]
    },
    {
      "cell_type": "code",
      "metadata": {
        "id": "8IzCCDkIbJmE",
        "colab_type": "code",
        "outputId": "9e047ffa-b4d0-461b-f8c4-d86e57104532",
        "colab": {
          "base_uri": "https://localhost:8080/",
          "height": 136
        }
      },
      "source": [
        "gbr_elastic = ElasticNet(alpha= 0.001)\n",
        "gbr_elastic.fit(X_train,Y_train_reg)"
      ],
      "execution_count": 0,
      "outputs": [
        {
          "output_type": "stream",
          "text": [
            "/usr/local/lib/python3.6/dist-packages/sklearn/linear_model/_coordinate_descent.py:476: ConvergenceWarning:\n",
            "\n",
            "Objective did not converge. You might want to increase the number of iterations. Duality gap: 92859.32665185072, tolerance: 548.2383728450334\n",
            "\n"
          ],
          "name": "stderr"
        },
        {
          "output_type": "execute_result",
          "data": {
            "text/plain": [
              "ElasticNet(alpha=0.001, copy_X=True, fit_intercept=True, l1_ratio=0.5,\n",
              "           max_iter=1000, normalize=False, positive=False, precompute=False,\n",
              "           random_state=None, selection='cyclic', tol=0.0001, warm_start=False)"
            ]
          },
          "metadata": {
            "tags": []
          },
          "execution_count": 36
        }
      ]
    },
    {
      "cell_type": "code",
      "metadata": {
        "id": "TjlJJohCbKYY",
        "colab_type": "code",
        "colab": {}
      },
      "source": [
        "pred_elastic=gbr_elastic.predict(X_test)"
      ],
      "execution_count": 0,
      "outputs": []
    },
    {
      "cell_type": "code",
      "metadata": {
        "id": "kLpXPDDnbVTF",
        "colab_type": "code",
        "outputId": "28215617-2f95-430d-923b-928a4dfcc148",
        "colab": {
          "base_uri": "https://localhost:8080/",
          "height": 669
        }
      },
      "source": [
        "submission = pd.DataFrame({'fullVisitorId':test_id, 'PredictedLogRevenue':pred_elastic})\n",
        "\n",
        "submission[\"PredictedLogRevenue\"] = np.expm1(submission[\"PredictedLogRevenue\"])\n",
        "submission[\"PredictedLogRevenue\"] = submission[\"PredictedLogRevenue\"].apply(lambda x : 0.0 if x < 0 else x)\n",
        "submission[\"PredictedLogRevenue\"] = submission[\"PredictedLogRevenue\"].fillna(0.0)\n",
        "\n",
        "submission_sum = submission[['fullVisitorId', 'PredictedLogRevenue']].groupby('fullVisitorId').sum().reset_index()\n",
        "submission_sum[\"PredictedLogRevenue\"] = np.log1p(submission_sum[\"PredictedLogRevenue\"])\n",
        "submission_sum.to_csv(\"/content/drive/My Drive/gsubmission_elastic.csv\", index=False)\n",
        "submission_sum.head(20)"
      ],
      "execution_count": 0,
      "outputs": [
        {
          "output_type": "execute_result",
          "data": {
            "text/html": [
              "<div>\n",
              "<style scoped>\n",
              "    .dataframe tbody tr th:only-of-type {\n",
              "        vertical-align: middle;\n",
              "    }\n",
              "\n",
              "    .dataframe tbody tr th {\n",
              "        vertical-align: top;\n",
              "    }\n",
              "\n",
              "    .dataframe thead th {\n",
              "        text-align: right;\n",
              "    }\n",
              "</style>\n",
              "<table border=\"1\" class=\"dataframe\">\n",
              "  <thead>\n",
              "    <tr style=\"text-align: right;\">\n",
              "      <th></th>\n",
              "      <th>fullVisitorId</th>\n",
              "      <th>PredictedLogRevenue</th>\n",
              "    </tr>\n",
              "  </thead>\n",
              "  <tbody>\n",
              "    <tr>\n",
              "      <th>0</th>\n",
              "      <td>0000018966949534117</td>\n",
              "      <td>0.489318</td>\n",
              "    </tr>\n",
              "    <tr>\n",
              "      <th>1</th>\n",
              "      <td>0000039738481224681</td>\n",
              "      <td>0.025847</td>\n",
              "    </tr>\n",
              "    <tr>\n",
              "      <th>2</th>\n",
              "      <td>0000073585230191399</td>\n",
              "      <td>0.455509</td>\n",
              "    </tr>\n",
              "    <tr>\n",
              "      <th>3</th>\n",
              "      <td>0000087588448856385</td>\n",
              "      <td>0.000000</td>\n",
              "    </tr>\n",
              "    <tr>\n",
              "      <th>4</th>\n",
              "      <td>0000149787903119437</td>\n",
              "      <td>0.464465</td>\n",
              "    </tr>\n",
              "    <tr>\n",
              "      <th>5</th>\n",
              "      <td>0000196310838896290</td>\n",
              "      <td>0.401357</td>\n",
              "    </tr>\n",
              "    <tr>\n",
              "      <th>6</th>\n",
              "      <td>00001995526696366</td>\n",
              "      <td>0.000000</td>\n",
              "    </tr>\n",
              "    <tr>\n",
              "      <th>7</th>\n",
              "      <td>0000255704530917106</td>\n",
              "      <td>0.000000</td>\n",
              "    </tr>\n",
              "    <tr>\n",
              "      <th>8</th>\n",
              "      <td>0000268499301061358</td>\n",
              "      <td>0.000000</td>\n",
              "    </tr>\n",
              "    <tr>\n",
              "      <th>9</th>\n",
              "      <td>0000276747989270229</td>\n",
              "      <td>0.507894</td>\n",
              "    </tr>\n",
              "    <tr>\n",
              "      <th>10</th>\n",
              "      <td>0000307692406594052</td>\n",
              "      <td>0.000000</td>\n",
              "    </tr>\n",
              "    <tr>\n",
              "      <th>11</th>\n",
              "      <td>0000336914980220518</td>\n",
              "      <td>0.000000</td>\n",
              "    </tr>\n",
              "    <tr>\n",
              "      <th>12</th>\n",
              "      <td>0000441374037493717</td>\n",
              "      <td>0.000000</td>\n",
              "    </tr>\n",
              "    <tr>\n",
              "      <th>13</th>\n",
              "      <td>0000450284137157873</td>\n",
              "      <td>0.964492</td>\n",
              "    </tr>\n",
              "    <tr>\n",
              "      <th>14</th>\n",
              "      <td>0000465852268847074</td>\n",
              "      <td>0.207569</td>\n",
              "    </tr>\n",
              "    <tr>\n",
              "      <th>15</th>\n",
              "      <td>0000507436339585432</td>\n",
              "      <td>0.000000</td>\n",
              "    </tr>\n",
              "    <tr>\n",
              "      <th>16</th>\n",
              "      <td>0000507687995373852</td>\n",
              "      <td>0.000000</td>\n",
              "    </tr>\n",
              "    <tr>\n",
              "      <th>17</th>\n",
              "      <td>000052414006177882</td>\n",
              "      <td>0.000000</td>\n",
              "    </tr>\n",
              "    <tr>\n",
              "      <th>18</th>\n",
              "      <td>0000528281082051132</td>\n",
              "      <td>0.362937</td>\n",
              "    </tr>\n",
              "    <tr>\n",
              "      <th>19</th>\n",
              "      <td>0000545498494146189</td>\n",
              "      <td>0.000000</td>\n",
              "    </tr>\n",
              "  </tbody>\n",
              "</table>\n",
              "</div>"
            ],
            "text/plain": [
              "          fullVisitorId  PredictedLogRevenue\n",
              "0   0000018966949534117             0.489318\n",
              "1   0000039738481224681             0.025847\n",
              "2   0000073585230191399             0.455509\n",
              "3   0000087588448856385             0.000000\n",
              "4   0000149787903119437             0.464465\n",
              "5   0000196310838896290             0.401357\n",
              "6     00001995526696366             0.000000\n",
              "7   0000255704530917106             0.000000\n",
              "8   0000268499301061358             0.000000\n",
              "9   0000276747989270229             0.507894\n",
              "10  0000307692406594052             0.000000\n",
              "11  0000336914980220518             0.000000\n",
              "12  0000441374037493717             0.000000\n",
              "13  0000450284137157873             0.964492\n",
              "14  0000465852268847074             0.207569\n",
              "15  0000507436339585432             0.000000\n",
              "16  0000507687995373852             0.000000\n",
              "17   000052414006177882             0.000000\n",
              "18  0000528281082051132             0.362937\n",
              "19  0000545498494146189             0.000000"
            ]
          },
          "metadata": {
            "tags": []
          },
          "execution_count": 39
        }
      ]
    },
    {
      "cell_type": "markdown",
      "metadata": {
        "id": "ogOiAebXJLMH",
        "colab_type": "text"
      },
      "source": [
        "#Conclusion"
      ]
    },
    {
      "cell_type": "code",
      "metadata": {
        "id": "NIb6V0QVJNBn",
        "colab_type": "code",
        "colab": {}
      },
      "source": [
        "from prettytable import PrettyTable\n",
        "x = PrettyTable()"
      ],
      "execution_count": 0,
      "outputs": []
    },
    {
      "cell_type": "code",
      "metadata": {
        "id": "E2lAc_WZJPeb",
        "colab_type": "code",
        "colab": {}
      },
      "source": [
        "x.field_names = [\"Type of regressor\", \"Kaggle Score\"]"
      ],
      "execution_count": 0,
      "outputs": []
    },
    {
      "cell_type": "code",
      "metadata": {
        "id": "msEk1cC5JQVG",
        "colab_type": "code",
        "colab": {}
      },
      "source": [
        "x.add_row([\"LGBM Regressor\",\"0.88996\"])\n",
        "x.add_row([\"XGB Regressor\",\"0.88945\"])\n",
        "x.add_row([\"GBR Regressor\",\"0.89488\"])\n",
        "x.add_row([\"Elastic Regressor\",\"0.92424\"])"
      ],
      "execution_count": 0,
      "outputs": []
    },
    {
      "cell_type": "code",
      "metadata": {
        "id": "n41QVSTIJSDk",
        "colab_type": "code",
        "outputId": "1d94958f-bad5-4092-e415-6ed224c5a1f4",
        "colab": {
          "base_uri": "https://localhost:8080/",
          "height": 153
        }
      },
      "source": [
        "print(x)"
      ],
      "execution_count": 0,
      "outputs": [
        {
          "output_type": "stream",
          "text": [
            "+-------------------+--------------+\n",
            "| Type of regressor | Kaggle Score |\n",
            "+-------------------+--------------+\n",
            "|   LGBM Regressor  |   0.88996    |\n",
            "|   XGB Regressor   |   0.88945    |\n",
            "|   GBR Regressor   |   0.89488    |\n",
            "| Elastic Regressor |   0.92424    |\n",
            "+-------------------+--------------+\n"
          ],
          "name": "stdout"
        }
      ]
    },
    {
      "cell_type": "markdown",
      "metadata": {
        "id": "Emx6Ca4_hu1m",
        "colab_type": "text"
      },
      "source": [
        "As you can see that we are getting best kaggle score for XGBRegressor with the value 0.88945 which is among top 30% scores in kaggle for all scores.\n",
        "We got best score for XGBRegressor because it's a boosting regressor, it's has a tendency to learn from its past errors.\n",
        "Further score can be improved if we add some time series features."
      ]
    }
  ]
}